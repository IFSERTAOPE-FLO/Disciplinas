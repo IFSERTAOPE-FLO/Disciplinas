{
  "cells": [
    {
      "attachments": {},
      "cell_type": "markdown",
      "metadata": {
        "id": "Do6jN8dCphkZ"
      },
      "source": [
        "#Introdução ao Python\n",
        "\n",
        "Disciplina: Algoritmos e Lógica de Programação\n"
      ]
    },
    {
      "attachments": {},
      "cell_type": "markdown",
      "metadata": {
        "id": "xJyXH7AItckP"
      },
      "source": [
        "###Links Úteis\n",
        "\n",
        "*   Como instalar o Python (Windows e Linux): https://profbreno.github.io/\n",
        "*   PyCharm: https://www.jetbrains.com/pt-br/pycharm/download/\n",
        "*   Vs Code: https://code.visualstudio.com/\n",
        "*   Livro gratuito 1: https://panda.ime.usp.br/panda/static/pensepy/index.html\n",
        "*   Livro Gratuito 2: https://panda.ime.usp.br/aulasPython/static/aulasPython/index.html\n",
        "*   Python para IOS: https://apps.apple.com/us/app/qpython/id1262366391\n",
        "*   Python para Android: https://play.google.com/store/apps/details?id=org.qpython.qpy3&hl=pt_BR&gl=US"
      ]
    },
    {
      "attachments": {},
      "cell_type": "markdown",
      "metadata": {
        "id": "pb4h9pa5sQo_"
      },
      "source": [
        "###Cursos Gratuitos em Python\n",
        "* https://on.fiap.com.br/local/movimentobrasildigital/\n",
        "* https://www.coursera.org/learn/ciencia-computacao-python-conceitos\n",
        "* https://www.youtube.com/watch?v=S9uPNppGsGo&list=PLHz_AreHm4dlKP6QQCekuIPky1CiwmdI6&index=1\n",
        "* https://www.oceanbrasil.com/online/"
      ]
    },
    {
      "attachments": {},
      "cell_type": "markdown",
      "metadata": {
        "id": "uyf-q8t1NH8x"
      },
      "source": [
        "##Meu primeiro programa em Python"
      ]
    },
    {
      "cell_type": "code",
      "execution_count": 1,
      "metadata": {
        "colab": {
          "base_uri": "https://localhost:8080/"
        },
        "id": "XRJtw2oVMzm4",
        "outputId": "faa92fd0-2150-4096-8705-5d22ae955c72"
      },
      "outputs": [
        {
          "name": "stdout",
          "output_type": "stream",
          "text": [
            "Hello World!\n"
          ]
        }
      ],
      "source": [
        "print(\"Hello World!\")"
      ]
    },
    {
      "cell_type": "code",
      "execution_count": 2,
      "metadata": {
        "colab": {
          "base_uri": "https://localhost:8080/",
          "height": 554
        },
        "id": "Hw2xZqtUNG8n",
        "outputId": "292623b5-63be-4f16-ef74-b6b754ceb120"
      },
      "outputs": [
        {
          "name": "stdout",
          "output_type": "stream",
          "text": [
            "Digite seu nome\n",
            "Breno\n"
          ]
        }
      ],
      "source": [
        "print(\"Digite seu nome\")\n",
        "nome = input()\n",
        "print(nome)"
      ]
    },
    {
      "cell_type": "code",
      "execution_count": 3,
      "metadata": {
        "colab": {
          "background_save": true,
          "base_uri": "https://localhost:8080/"
        },
        "id": "XQspqNCRNpNR",
        "outputId": "051064ef-f2b9-4b82-a9a1-9be3b9457e84"
      },
      "outputs": [
        {
          "data": {
            "text/plain": [
              "str"
            ]
          },
          "execution_count": 3,
          "metadata": {},
          "output_type": "execute_result"
        }
      ],
      "source": [
        "x = \"1\"\n",
        "type(x)"
      ]
    },
    {
      "attachments": {},
      "cell_type": "markdown",
      "metadata": {
        "id": "5N0zXWmwql4q"
      },
      "source": [
        "**Tipos de dados básicos**"
      ]
    },
    {
      "cell_type": "code",
      "execution_count": null,
      "metadata": {
        "colab": {
          "base_uri": "https://localhost:8080/"
        },
        "id": "j9VgThvwqryS",
        "outputId": "1dce5fcf-da7f-4814-8e2e-597b728bbaa3"
      },
      "outputs": [
        {
          "name": "stdout",
          "output_type": "stream",
          "text": [
            "<class 'int'>\n",
            "<class 'float'>\n",
            "<class 'complex'>\n",
            "<class 'str'>\n",
            "<class 'bool'>\n"
          ]
        }
      ],
      "source": [
        "print(type(2)) # O tipo do número 2 é int (número inteiro)\n",
        "print(type(2.5)) # O tipo do número 2.5 é float (número decimal)\n",
        "print(type(1.5+1.5j)) # O tipo do número 1 + 1j (j é o número imaginário) é complex\n",
        "print(type('O termo esta termoentre aspas\\n')) # Sequencia de caracteres para armazenar texto\n",
        "print(type(True)) # tipo booleano para Verdadeiro (True) e Falso (False)"
      ]
    },
    {
      "attachments": {},
      "cell_type": "markdown",
      "metadata": {
        "id": "06rhdSN5J92E"
      },
      "source": [
        "##Aula 2 de Python (29/06/2021)"
      ]
    },
    {
      "attachments": {},
      "cell_type": "markdown",
      "metadata": {
        "id": "aPn8etXkrB7v"
      },
      "source": [
        "Material de estudo:\n",
        "* https://panda.ime.usp.br/panda/static/pensepy/01-Introducao/introducao.html\n",
        "* https://panda.ime.usp.br/panda/static/pensepy/02-Conceitos/conceitos.html"
      ]
    },
    {
      "attachments": {},
      "cell_type": "markdown",
      "metadata": {
        "id": "BzbFfcNZq0D-"
      },
      "source": [
        "**Variáveis**"
      ]
    },
    {
      "cell_type": "code",
      "execution_count": null,
      "metadata": {
        "id": "ChunySn1M-oz"
      },
      "outputs": [],
      "source": [
        "altura_do_guilherme = 1.85 # nome_da_variavel = valor\n",
        "texto = \"Hello world\"\n",
        "chovendo = True\n",
        "sabor_bolo = \"de Fubá\""
      ]
    },
    {
      "cell_type": "code",
      "execution_count": null,
      "metadata": {
        "colab": {
          "base_uri": "https://localhost:8080/"
        },
        "id": "f8oZIuse2f3u",
        "outputId": "67a1d4a9-a1f7-4426-b885-e6177cf2a9b8"
      },
      "outputs": [
        {
          "name": "stdout",
          "output_type": "stream",
          "text": [
            "1.85 Hello world True de Fubá\n"
          ]
        }
      ],
      "source": [
        "print(altura_do_guilherme, texto, chovendo, sabor_bolo)"
      ]
    },
    {
      "cell_type": "code",
      "execution_count": null,
      "metadata": {
        "id": "ksObRn18SRZI"
      },
      "outputs": [],
      "source": [
        "chovendo = \"pra caramba\""
      ]
    },
    {
      "cell_type": "code",
      "execution_count": null,
      "metadata": {
        "colab": {
          "base_uri": "https://localhost:8080/"
        },
        "id": "1y62uj67KHhE",
        "outputId": "66bf7d65-0750-45ec-dcaf-65a5c4c2fcc4"
      },
      "outputs": [
        {
          "data": {
            "text/plain": [
              "float"
            ]
          },
          "execution_count": 2,
          "metadata": {
            "tags": []
          },
          "output_type": "execute_result"
        }
      ],
      "source": [
        "# Aqui inicia o nosso segundo programa! //NO visualG agora é #.\n",
        "\n",
        "#No VISUALG\n",
        "# idade: inteiro\n",
        "# idade <- 22\n",
        "#No Python\n",
        "idade = 22\n",
        "type(idade)"
      ]
    },
    {
      "cell_type": "code",
      "execution_count": null,
      "metadata": {
        "colab": {
          "base_uri": "https://localhost:8080/"
        },
        "id": "oAbaIeBxLiRv",
        "outputId": "2a5a1d01-3309-49a1-ded7-0c389310659c"
      },
      "outputs": [
        {
          "data": {
            "text/plain": [
              "False"
            ]
          },
          "execution_count": 4,
          "metadata": {
            "tags": []
          },
          "output_type": "execute_result"
        }
      ],
      "source": [
        "idade = 10 #No visual G = Comparação\n",
        "idade != 10"
      ]
    },
    {
      "cell_type": "code",
      "execution_count": null,
      "metadata": {
        "id": "vVzMvonxKMrv"
      },
      "outputs": [],
      "source": [
        "print(\"Digite sua idade\")\n",
        "idade = int(input())\n",
        "anoNasc = 2022 - idade\n",
        "print(\"Você nasceu em \", anoNasc)"
      ]
    },
    {
      "cell_type": "code",
      "execution_count": null,
      "metadata": {
        "colab": {
          "base_uri": "https://localhost:8080/"
        },
        "id": "L785su3JMZ6L",
        "outputId": "1a34cad5-6010-43b2-b69b-f122643232c2"
      },
      "outputs": [
        {
          "name": "stdout",
          "output_type": "stream",
          "text": [
            "Digite a primeira nota\n",
            "8\n",
            "Digite a segunda nota\n",
            "10\n",
            "Digite a terceira nota\n",
            "4\n",
            "A média do aluno é 7.333333333333333\n"
          ]
        }
      ],
      "source": [
        "pBi = int(input(\"Digite a primeira nota\"))\n",
        "sBi = int(input(\"Digite a segunda nota\"))\n",
        "tBi = int(input(\"Digite a terceira nota\"))\n",
        "Media = (pBi + sBi + tBi)/3\n",
        "print(\"A média do aluno é\", Media)"
      ]
    },
    {
      "cell_type": "code",
      "execution_count": null,
      "metadata": {
        "colab": {
          "base_uri": "https://localhost:8080/"
        },
        "id": "_2LJFAVIN4iZ",
        "outputId": "fe9f3702-a773-4bad-c31c-e58eb0386dde"
      },
      "outputs": [
        {
          "name": "stdout",
          "output_type": "stream",
          "text": [
            "Digite o nome do alunoItalo\n",
            "Digite a primeira nota8.4\n",
            "Digite a segunda nota4.3\n",
            "Digite a terceira nota6.8\n",
            "O aluno Italo tem a média 6.5\n"
          ]
        }
      ],
      "source": [
        "# Simplificação do exemplo acima\n",
        "nome = input(\"Digite o nome do aluno\")\n",
        "pBi = float(input(\"Digite a primeira nota\")) # leia(pBi)\n",
        "sBi = float(input(\"Digite a segunda nota\")) # leia(sBi)\n",
        "tBi = float(input(\"Digite a terceira nota\")) # leia(tBi)\n",
        "Media = (pBi + sBi + tBi)/3\n",
        "print(\"O aluno\", nome, \"tem a média\", Media)"
      ]
    },
    {
      "attachments": {},
      "cell_type": "markdown",
      "metadata": {
        "id": "1NlSUBtMM_7H"
      },
      "source": [
        "## Operações básicas (e nem tão básicas)"
      ]
    },
    {
      "attachments": {},
      "cell_type": "markdown",
      "metadata": {
        "id": "ZTpQVXKzNHtY"
      },
      "source": [
        "### Com dados numéricos"
      ]
    },
    {
      "attachments": {},
      "cell_type": "markdown",
      "metadata": {
        "id": "x0QK1MRk6_pW"
      },
      "source": [
        "Uma coisa natural que se deseja fazer com números é fazer cálculos aritméticos. Vimos o operador `+` para adição e o operador `*` para multiplicação. O Python também nos cobre com o restante dos botões básicos da calculadora:\n",
        "\n",
        "| Operador     | Nome           | Descrição                                                 |\n",
        "|--------------|----------------|-----------------------------------------------------------|\n",
        "| ``a + b``    | Adição         | Soma de ``a`` e ``b``                                     |\n",
        "| ``a - b``    | Subtração      | Diferença de ``a`` e ``b``                                |\n",
        "| ``a * b``    | Multiplicação  | Produto de ``a`` e ``b``                                  |\n",
        "| ``a / b``    | Divisão        | Quociente de ``a`` e ``b``                                |\n",
        "| ``a // b``   | Divisão Int    | Quociente de ``a`` e ``b``, removendo a parte fracionária |\n",
        "| ``a % b``    | Resto de div.  | Inteiro restante depois da divisão de ``a`` por ``b``     |\n",
        "| ``a ** b``   | Exponenciação  | ``a`` elevado a potência de ``b``                         |\n",
        "| ``-a``       | Negação        | O negativo de ``a``                                       |\n",
        "\n",
        "<span style=\"display:none\"></span>\n",
        "\n",
        "Uma observação interessante aqui é que, embora sua calculadora provavelmente tenha apenas um botão para divisão, o Python pode fazer dois tipos."
      ]
    },
    {
      "cell_type": "code",
      "execution_count": null,
      "metadata": {
        "colab": {
          "base_uri": "https://localhost:8080/"
        },
        "id": "-UCzQIB9NF-j",
        "outputId": "ff6112c9-283a-4a2c-b5f8-d39a918f2703"
      },
      "outputs": [
        {
          "name": "stdout",
          "output_type": "stream",
          "text": [
            "(3.5+5j)\n",
            "8.5\n",
            "-4\n",
            "3.3333333333333335\n",
            "0.5\n",
            "2\n",
            "2\n"
          ]
        }
      ],
      "source": [
        "print(2.5+5j + 1) # o '+' é a soma usual\n",
        "print(10 - 1.5) # o '-' é a subtração usual\n",
        "print(2 * -2) # o '*' é a multiplicação usual\n",
        "print(10 / 3) # o '/' é a divisão usual\n",
        "\n",
        "print(4 ** -0.5) # o '**' é a potenciação\n",
        "print(10 // 4) # o '//' é o quociente da divisão inteira\n",
        "print(10 % 4) # o '%' é o resto da divisão inteiro"
      ]
    },
    {
      "attachments": {},
      "cell_type": "markdown",
      "metadata": {
        "id": "40L4OaIe7dse"
      },
      "source": [
        "### Ordem de operações\n",
        "\n",
        "A aritmética que aprendemos na escola primária tem convenções sobre a ordem em que as operações são avaliadas. Alguns se lembram deles por um mnemônico, como **PEMDAS** - **P** arêntese, **E**xponentes, **M**ultiplicação / **D**ivisão, **A**dição / **S**ubtração.\n",
        "\n",
        "Python segue regras semelhantes sobre quais cálculos executar primeiro. Eles são muito intuitivos."
      ]
    },
    {
      "cell_type": "code",
      "execution_count": null,
      "metadata": {
        "id": "qvlvTcOTV7HP"
      },
      "outputs": [],
      "source": [
        "8 - 3 + 2"
      ]
    },
    {
      "cell_type": "code",
      "execution_count": null,
      "metadata": {
        "id": "6jc_yo5qV7HP"
      },
      "outputs": [],
      "source": [
        "-3 + 4 * 2"
      ]
    },
    {
      "attachments": {},
      "cell_type": "markdown",
      "metadata": {
        "id": "ubcnnU08Hsud"
      },
      "source": [
        "#Aula dia 30/06/2021"
      ]
    },
    {
      "attachments": {},
      "cell_type": "markdown",
      "metadata": {
        "id": "QYC4Iwkockrb"
      },
      "source": [
        "Materiais de apoio:\n",
        "* https://panda.ime.usp.br/aulasPython/static/aulasPython/aula02.html\n",
        "* https://panda.ime.usp.br/panda/static/pensepy/02-Conceitos/conceitos.html"
      ]
    },
    {
      "attachments": {},
      "cell_type": "markdown",
      "metadata": {
        "id": "04xvT_dlH0Wg"
      },
      "source": [
        "Você olha para um relógio e são exatamente 2 da tarde. Você coloca um alarme para tocar daqui a 51 horas. A que horas o alarme ira tocar?"
      ]
    },
    {
      "cell_type": "code",
      "execution_count": null,
      "metadata": {
        "id": "jT9CGOK7bSh5"
      },
      "outputs": [],
      "source": [
        "hora_atual = 14\n",
        "despertador = 51\n",
        "hora_restante = despertador%24 # 51%24\n",
        "hora_despertar = hora_restante+hora_atual\n",
        "print(hora_despertar)"
      ]
    },
    {
      "attachments": {},
      "cell_type": "markdown",
      "metadata": {
        "id": "Ldnm_v9IKqyE"
      },
      "source": [
        "##Aula dia 01/07/2021"
      ]
    },
    {
      "attachments": {},
      "cell_type": "markdown",
      "metadata": {
        "id": "CwI7iK4rOjTt"
      },
      "source": [
        "Escreva um programa em Python que resolve a versão geral do problema acima. Peça ao **usuário que entre com a hora atual** (em horas) e que **entre com o número de horas que deverá esperar antes do alarme tocar**. Seu programa deve **imprimir a hora que o alarme irá tocar**."
      ]
    },
    {
      "cell_type": "code",
      "execution_count": null,
      "metadata": {
        "colab": {
          "base_uri": "https://localhost:8080/"
        },
        "id": "G0FRm7J8KwFn",
        "outputId": "7dd6e6b8-94dc-48e9-fcc4-16bc68d5c3e0"
      },
      "outputs": [
        {
          "name": "stdout",
          "output_type": "stream",
          "text": [
            "Digite a hora atual21\n",
            "Digite o número de horas que deverá esperar antes do alarme tocar78\n",
            "O despertador tocará daqui a 3 dias, às 3 horas\n",
            "O despertador tocará daqui a 3 dias, às 3 horas\n"
          ]
        }
      ],
      "source": [
        "hora_atual = int(input(\"Digite a hora atual\")) #14\n",
        "despertador = int(input(\"Digite o número de horas que deverá esperar antes do alarme tocar\")) #51\n",
        "dias = despertador // 24\n",
        "hora_restante = despertador % 24\n",
        "hora_despertar = hora_restante+hora_atual\n",
        "hora_despertar = hora_despertar%24\n",
        "print(\"O despertador tocará daqui a\", dias,\"dias, às\", hora_despertar, \"horas\")\n",
        "print(\"O despertador tocará daqui a {} dias, às {} horas\".format(dias, hora_despertar))"
      ]
    },
    {
      "attachments": {},
      "cell_type": "markdown",
      "metadata": {
        "id": "CAaUYgI7GntZ"
      },
      "source": [
        "#Agora é com você!\n",
        "Agora é sua chance. Experimente sua **[Lista de exercícios 1](https://forms.gle/AQn1FiQoZt2GHx8K6)**!\n",
        "\n",
        "`Prazo:` 06/07/2021 às 23:59"
      ]
    },
    {
      "attachments": {},
      "cell_type": "markdown",
      "metadata": {
        "id": "7sKOFdnOTwN_"
      },
      "source": [
        "##Aula dia 06/07\n",
        "---\n",
        "*Assuntos:*\n",
        "* Operações com dados texto e booleanos\n",
        "* conversão de tipos de Dados (`int(), float(), str(), bool()`)"
      ]
    },
    {
      "cell_type": "code",
      "execution_count": null,
      "metadata": {
        "colab": {
          "base_uri": "https://localhost:8080/"
        },
        "id": "JmK_Cd12U78W",
        "outputId": "9e15c23e-a91d-434a-fdd6-d6f4369566c0"
      },
      "outputs": [
        {
          "name": "stdout",
          "output_type": "stream",
          "text": [
            "olamundo\n"
          ]
        }
      ],
      "source": [
        "print(\"ola\" \"mundo\")"
      ]
    },
    {
      "attachments": {},
      "cell_type": "markdown",
      "metadata": {
        "id": "19zCGjtN8kQl"
      },
      "source": [
        "###Operações com dados texto"
      ]
    },
    {
      "cell_type": "code",
      "execution_count": null,
      "metadata": {
        "colab": {
          "base_uri": "https://localhost:8080/"
        },
        "id": "iCau3TGG8q7u",
        "outputId": "f596f460-d190-4c01-c5b9-c626d1642b1c"
      },
      "outputs": [
        {
          "name": "stdout",
          "output_type": "stream",
          "text": [
            "Digite seu nome: Breno\n",
            "Digite sua idade: 28\n",
            "Olá, me chamo Breno e tenho 28 anos.\n"
          ]
        }
      ],
      "source": [
        "nome = input(\"Digite seu nome: \")\n",
        "anos = input(\"Digite sua idade: \")\n",
        "frase = \"Olá, me chamo \"+nome+\" e tenho \"+ anos +\" anos.\" #o '+' é a concatenação de strings\n",
        "print(frase)"
      ]
    },
    {
      "cell_type": "code",
      "execution_count": null,
      "metadata": {
        "colab": {
          "base_uri": "https://localhost:8080/"
        },
        "id": "mv5VHuek-_OT",
        "outputId": "49fe4a71-1ea9-447a-f088-dcdd66e95856"
      },
      "outputs": [
        {
          "name": "stdout",
          "output_type": "stream",
          "text": [
            "BrenoBrenoBrenoBrenoBrenoBreno\n"
          ]
        }
      ],
      "source": [
        "print(\"repete \"*6) #repete uma número x de vezes, onde x é um inteiro"
      ]
    },
    {
      "cell_type": "code",
      "execution_count": null,
      "metadata": {
        "colab": {
          "base_uri": "https://localhost:8080/"
        },
        "id": "fq6IAhbl_fmw",
        "outputId": "1a5df1bb-f6d2-4ac8-b65c-e5d1f42e9f8a"
      },
      "outputs": [
        {
          "name": "stdout",
          "output_type": "stream",
          "text": [
            "Oi Tudo bem Oi Tudo bem Oi Tudo bem Oi Tudo bem \n"
          ]
        }
      ],
      "source": [
        "msg = (\"Oi \" + \"Tudo bem \")*4\n",
        "print(msg)"
      ]
    },
    {
      "cell_type": "code",
      "execution_count": null,
      "metadata": {
        "colab": {
          "base_uri": "https://localhost:8080/"
        },
        "id": "PIxc5FgMAG1q",
        "outputId": "bbb5a6e0-e083-4a1e-ce59-4c7e06650508"
      },
      "outputs": [
        {
          "name": "stdout",
          "output_type": "stream",
          "text": [
            "333\n"
          ]
        }
      ],
      "source": [
        "quantidade = \"3\"   #Inteiro\n",
        "print(quantidade*3)"
      ]
    },
    {
      "cell_type": "code",
      "execution_count": null,
      "metadata": {
        "colab": {
          "base_uri": "https://localhost:8080/",
          "height": 163
        },
        "id": "cuq6LDNUAdYF",
        "outputId": "c7d3e30e-2201-4360-fd4c-c93ad3846bc6"
      },
      "outputs": [
        {
          "ename": "TypeError",
          "evalue": "ignored",
          "output_type": "error",
          "traceback": [
            "\u001b[0;31m---------------------------------------------------------------------------\u001b[0m",
            "\u001b[0;31mTypeError\u001b[0m                                 Traceback (most recent call last)",
            "\u001b[0;32m<ipython-input-21-fdfadf8f872c>\u001b[0m in \u001b[0;36m<module>\u001b[0;34m()\u001b[0m\n\u001b[0;32m----> 1\u001b[0;31m \u001b[0;34m\"5\"\u001b[0m \u001b[0;34m+\u001b[0m \u001b[0;36m5\u001b[0m \u001b[0;31m#não funciona\u001b[0m\u001b[0;34m\u001b[0m\u001b[0;34m\u001b[0m\u001b[0m\n\u001b[0m",
            "\u001b[0;31mTypeError\u001b[0m: can only concatenate str (not \"int\") to str"
          ]
        }
      ],
      "source": [
        "\"5\" + 5 #não funciona"
      ]
    },
    {
      "attachments": {},
      "cell_type": "markdown",
      "metadata": {
        "id": "7FmPafQPA9Rf"
      },
      "source": [
        "###Operações com booleanos"
      ]
    },
    {
      "cell_type": "code",
      "execution_count": null,
      "metadata": {
        "colab": {
          "base_uri": "https://localhost:8080/"
        },
        "id": "gH0uzYUYBnnI",
        "outputId": "f09cb78d-40cc-494e-b953-eb4b9f2878d8"
      },
      "outputs": [
        {
          "data": {
            "text/plain": [
              "0"
            ]
          },
          "execution_count": 24,
          "metadata": {
            "tags": []
          },
          "output_type": "execute_result"
        }
      ],
      "source": [
        "False + False #Converte o True para 1 e o False para 0 e faz numericamente"
      ]
    },
    {
      "cell_type": "code",
      "execution_count": null,
      "metadata": {
        "colab": {
          "base_uri": "https://localhost:8080/"
        },
        "id": "ErdDVzAwBW3v",
        "outputId": "15f9003b-b3ff-4453-db67-ae61e454a32b"
      },
      "outputs": [
        {
          "data": {
            "text/plain": [
              "0"
            ]
          },
          "execution_count": 25,
          "metadata": {
            "tags": []
          },
          "output_type": "execute_result"
        }
      ],
      "source": [
        "(True+4)*False "
      ]
    },
    {
      "cell_type": "code",
      "execution_count": null,
      "metadata": {
        "colab": {
          "base_uri": "https://localhost:8080/"
        },
        "id": "xdObC7aFB5Sl",
        "outputId": "27db0d56-42cb-453e-98b8-6684fa0ce545"
      },
      "outputs": [
        {
          "name": "stdout",
          "output_type": "stream",
          "text": [
            "13.1415\n"
          ]
        }
      ],
      "source": [
        "stringPi = \"3.1415\"\n",
        "pi = float(stringPi)\n",
        "print(pi + 10)"
      ]
    },
    {
      "cell_type": "code",
      "execution_count": null,
      "metadata": {
        "colab": {
          "base_uri": "https://localhost:8080/"
        },
        "id": "-4Lmk2-6C8e6",
        "outputId": "84b865ab-4130-4c1c-8625-0a129b384e78"
      },
      "outputs": [
        {
          "name": "stdout",
          "output_type": "stream",
          "text": [
            "321\n"
          ]
        }
      ],
      "source": [
        "nome = \"Breno\"\n",
        "intNome = int(nome)\n",
        "print(intNome) #Erro, pois não converte string em inteiro"
      ]
    },
    {
      "cell_type": "code",
      "execution_count": null,
      "metadata": {
        "colab": {
          "base_uri": "https://localhost:8080/"
        },
        "id": "0mY00tt7DMZX",
        "outputId": "be054bf7-f0d9-4f7d-e71c-236ac5317067"
      },
      "outputs": [
        {
          "data": {
            "text/plain": [
              "1"
            ]
          },
          "execution_count": 31,
          "metadata": {
            "tags": []
          },
          "output_type": "execute_result"
        }
      ],
      "source": [
        "int(True)"
      ]
    },
    {
      "cell_type": "code",
      "execution_count": null,
      "metadata": {
        "colab": {
          "base_uri": "https://localhost:8080/",
          "height": 35
        },
        "id": "nQ0n72nLDhPM",
        "outputId": "9997e3a7-ad15-48a7-a1ed-4cec112a487a"
      },
      "outputs": [
        {
          "data": {
            "application/vnd.google.colaboratory.intrinsic+json": {
              "type": "string"
            },
            "text/plain": [
              "'10.8'"
            ]
          },
          "execution_count": 35,
          "metadata": {
            "tags": []
          },
          "output_type": "execute_result"
        }
      ],
      "source": [
        "a = 10.8\n",
        "str(a)"
      ]
    },
    {
      "attachments": {},
      "cell_type": "markdown",
      "metadata": {
        "id": "W-ZnoNCRETvy"
      },
      "source": [
        "##Aula dia 07/07\n",
        "---\n",
        "*Assuntos:*\n",
        "* Exercícios:\n",
        " * Escreva uma sequência de operações em python que converta um valor em real para dólar -> 1 dol = 5.27 real\n",
        " * Escreva uma sequência de operações em python que converta um valor em dólar para real\n",
        " * Exercicio Conversão de Celsius para Farenheit (C * 9/5  + 32 = F)"
      ]
    },
    {
      "cell_type": "code",
      "execution_count": null,
      "metadata": {
        "colab": {
          "base_uri": "https://localhost:8080/"
        },
        "id": "-1i_Beo2dsBi",
        "outputId": "d4c4cb24-7635-444e-8b85-89d49ac58f49"
      },
      "outputs": [
        {
          "name": "stdout",
          "output_type": "stream",
          "text": [
            "digite o valor em reais: 150\n",
            "seu valor R$ 28.46 foi convertido em $ 150.00\n",
            "seu valor R$ 150.00 foi convertido em $ 28.46\n"
          ]
        }
      ],
      "source": [
        "#Escreva uma sequência de operações em python que converta um valor em real para dólar -> 1 dol = 5.27 real\n",
        "real = float(input(\"digite o valor em reais: \"))\n",
        "conversao = real/5.27\n",
        "print(\"seu valor R$ {:.2f} foi convertido em $ {:.2f}\".format(real, conversao))\n",
        "print(f\"seu valor R$ {real:.2f} foi convertido em $ {conversao:.2f}\")"
      ]
    },
    {
      "cell_type": "code",
      "execution_count": null,
      "metadata": {
        "colab": {
          "base_uri": "https://localhost:8080/"
        },
        "id": "R00H3aNEdz_M",
        "outputId": "9848d0a9-1efd-4bda-e32d-08f844293102"
      },
      "outputs": [
        {
          "name": "stdout",
          "output_type": "stream",
          "text": [
            "Digite o valor em Dólar: 100\n",
            "O valor convertido foi de R$ 527.00\n"
          ]
        }
      ],
      "source": [
        "#Escreva uma sequência de operações em python que converta um valor em dólar para real\n",
        "dolar = float(input(\"Digite o valor em Dólar: \"))\n",
        "conversao = dolar*5.27\n",
        "print (f\"O valor convertido foi de R$ {conversao:.2f}\")"
      ]
    },
    {
      "cell_type": "code",
      "execution_count": null,
      "metadata": {
        "colab": {
          "base_uri": "https://localhost:8080/"
        },
        "id": "oDYBSg3td3qd",
        "outputId": "a60c78cb-dbdc-4020-a465-562fb66b2d4a"
      },
      "outputs": [
        {
          "name": "stdout",
          "output_type": "stream",
          "text": [
            "Coloque a temperaura em celsius: 26\n",
            "A temperatura em farenheit é de: 78.8\n"
          ]
        }
      ],
      "source": [
        "#Exercicio Conversão de Celsius para Farenheit (C * 9/5 + 32 = F)\n",
        "celsius = float(input(\"Coloque a temperaura em celsius: \"))\n",
        "farenheit = (celsius*(9/5)+32)\n",
        "print(f\"A temperatura em farenheit é de: {farenheit:.1f}\")"
      ]
    },
    {
      "cell_type": "code",
      "execution_count": null,
      "metadata": {
        "colab": {
          "base_uri": "https://localhost:8080/"
        },
        "id": "sdv63vPx6qXd",
        "outputId": "394f0075-676a-45bd-9fae-759cff33c409"
      },
      "outputs": [
        {
          "name": "stdout",
          "output_type": "stream",
          "text": [
            "Informe a medida em polegadas: 1.5\n",
            "O valor de 1.5 polegadas é 3.81 cm.\n"
          ]
        }
      ],
      "source": [
        "#Escreva uma sequência de operações em python que converta uma medida em polegadas para centímetros -> 1pol = 2.54cm\n",
        "medida_polegadas = float(input(\"Informe a medida em polegadas: \"))\n",
        "centimetros = medida_polegadas * 2.54\n",
        "print(f\"O valor de {medida_polegadas} polegadas é {centimetros} cm.\")"
      ]
    },
    {
      "attachments": {},
      "cell_type": "markdown",
      "metadata": {
        "id": "0X91p1xBpDh6"
      },
      "source": [
        "##Formatação com f-strings\n",
        "**F-strings** foram criados para facilitar nossa vida e vieram para ficar!\n",
        "\n",
        "Também chamadas de \"*strings literais formatadas*\" (formatted string literals), **f-strings** são strings com a letra `f` no início e chaves `{}` para realizar a interpolação de expressões.\n",
        "\n",
        "As expressões são processadas em tempo de execução e formatadas utilizadas o protocolo `__format__`. Vamos de exemplo:"
      ]
    },
    {
      "cell_type": "code",
      "execution_count": null,
      "metadata": {
        "colab": {
          "base_uri": "https://localhost:8080/"
        },
        "id": "POWQd2G5pFe7",
        "outputId": "d8fadd08-4d9f-4e48-dbc8-7147e07c386f"
      },
      "outputs": [
        {
          "name": "stdout",
          "output_type": "stream",
          "text": [
            "Qual o melhor professor do IFBA? Prof. Breno!\n"
          ]
        }
      ],
      "source": [
        "nome = 'Prof. Breno'\n",
        "print(f\"Qual o melhor professor do IFBA? {nome}!\")"
      ]
    },
    {
      "attachments": {},
      "cell_type": "markdown",
      "metadata": {
        "id": "fd0yyzJSkk7-"
      },
      "source": [
        "##Utilizando formatadores especiais\n",
        "A *Especificação de Formatação* (do inglês “*Format Specification*” - acesse a [documentação aqui](https://docs.python.org/3/library/string.html#format-specification-mini-language)) oferece modificadores que podem ser utilizados em conjunto com f-strings.\n",
        "\n",
        "A especificação é bem extensa e contém diversos componentes, portanto sugiro dar uma olhadinha lá.\n",
        "\n",
        "Sua forma é a seguinte:\n",
        "\n",
        "> **`{[<nome>][!<conversão>][:<modificador>]}`**\n",
        "\n",
        "A parte `[:<modificador>]` é bem complexa e possui os seguintes campos:\n",
        "\n",
        "> **`:[[<preenchimento>]<alinhamento>][<sinal>][#][0][<comprimento>][<grupo>][.<precisão>][<tipo>]`**\n",
        "\n",
        "Cada campo desse possibilita um tipo de modificação na string resultante.\n",
        "\n",
        "Um modificador disponível é o símbolo de porcentagem `%`. Ele serve para formatar saídas numéricas. Veja a mágica:"
      ]
    },
    {
      "cell_type": "code",
      "execution_count": null,
      "metadata": {
        "colab": {
          "base_uri": "https://localhost:8080/"
        },
        "id": "G3gOQ1Yckwks",
        "outputId": "9a653c80-d48e-4577-a63c-32e81ea98168"
      },
      "outputs": [
        {
          "name": "stdout",
          "output_type": "stream",
          "text": [
            "\fResultado original: 0.1375\n",
            "Resultado formatado: 13.8%\n"
          ]
        }
      ],
      "source": [
        "valor = 5.5 / 40.0\n",
        "print(\n",
        "    f\"Resultado original: {valor}\\n\"\n",
        "    f\"Resultado formatado: {valor:.1%}\"\n",
        ")"
      ]
    },
    {
      "attachments": {},
      "cell_type": "markdown",
      "metadata": {
        "id": "iCXb5KONlhNr"
      },
      "source": [
        "Explicando:\n",
        "* O `.1` diz que a string resultante deve ter apenas uma casa decimal;\n",
        "* O `%` multiplica o valor por 100 e inclui o % ao final.\n",
        "\n",
        "Agora um exemplo maluco:"
      ]
    },
    {
      "cell_type": "code",
      "execution_count": null,
      "metadata": {
        "colab": {
          "base_uri": "https://localhost:8080/"
        },
        "id": "QxQUKwj0kiFc",
        "outputId": "86200c78-9f1d-4ea6-fca8-6f93876f7ca3"
      },
      "outputs": [
        {
          "name": "stdout",
          "output_type": "stream",
          "text": [
            "'----ff----'\n"
          ]
        }
      ],
      "source": [
        "valor = 255\n",
        "print(f\"'{valor:-^10x}'\")"
      ]
    },
    {
      "attachments": {},
      "cell_type": "markdown",
      "metadata": {
        "id": "iYYPqnKCnIC7"
      },
      "source": [
        "Agora vamos com calma:\n",
        "* `-` é o `[<preenchimento>]`: é o caracter que vai preencher os espaços vazios;\n",
        "* `^` é o `[<alinhamento>]`: diz como a string deve ser alinhada. No caso, diz que a string deve ser centralizada;\n",
        "* 10 é o `[<comprimento>]`: diz que a string resultante deve ter 10 caracteres;\n",
        "* `x` ´e o `[<tipo>]`: diz que a string deve ser convertida em hexadeximal (portanto o ff no resultado).\n",
        "\n",
        "Um tanto complexo, mas conciso! ;-)"
      ]
    },
    {
      "attachments": {},
      "cell_type": "markdown",
      "metadata": {
        "id": "rf2HDWsFplOu"
      },
      "source": [
        "##Aula dia 08/07\n",
        "---\n",
        "*Assuntos:*\n",
        "* If, if-else e elif\n",
        "* Links de estudo: https://panda.ime.usp.br/pensepy/static/pensepy/06-Selecao/selecao.html\n",
        "\n",
        "### Desvios Conditionais\n",
        "Valores booleanos são úteis quando combinados com declarações condicionais, usando as palavras-chave `if` (se),` elif` (senão-se) e `else` (senão).\n",
        "\n",
        "As instruções condicionais, geralmente chamadas de instruções *if-then*, permitem controlar quais partes do código são executadas com base no valor de alguma condição booleana. Aqui está um exemplo:"
      ]
    },
    {
      "cell_type": "code",
      "execution_count": null,
      "metadata": {
        "colab": {
          "base_uri": "https://localhost:8080/"
        },
        "id": "GQCqdTVt8zQg",
        "outputId": "2f794f65-e223-4562-bdcb-1b0ee6f7de5f"
      },
      "outputs": [
        {
          "name": "stdout",
          "output_type": "stream",
          "text": [
            "Digite um número inteiro: -1\n"
          ]
        }
      ],
      "source": [
        "x = int(input(\"Digite um número inteiro: \"))\n",
        "if x > 0:\n",
        "  print(f\"O número {x} é positivo\")\n",
        "elif x < 0:\n",
        "  print(f\"O número {x} é negativo\")\n",
        "elif x == 0:\n",
        "  print(\"O número é zero\")\n",
        "else:\n",
        "  print(\"Qualque coisa que nunca vi na vida...\")"
      ]
    },
    {
      "attachments": {},
      "cell_type": "markdown",
      "metadata": {
        "id": "U37u0pUO9Ccp"
      },
      "source": [
        "As palavras-chave `if` e `else` são freqüentemente usadas em outras linguagens; sua palavra-chave mais exclusiva é `elif`, uma contração de \"`else if`\". Nessas cláusulas condicionais, os blocos `elif` e `else` são opcionais; além disso, você pode incluir quantas instruções `elif` desejar.\n",
        "\n",
        "Observe especialmente o uso de dois pontos (`:`) e espaço em branco para denotar blocos separados de código. Isso é semelhante ao que acontece quando definimos uma função - o cabeçalho da função termina com `:`, e a linha seguinte é recuada com espaços. Todas as linhas recuadas subsequentes pertencem ao corpo da função, até encontrarmos uma linha não recuada, encerrando a definição da função."
      ]
    },
    {
      "cell_type": "code",
      "execution_count": null,
      "metadata": {
        "colab": {
          "base_uri": "https://localhost:8080/"
        },
        "id": "QpXmH8Lr-R_z",
        "outputId": "ac9031d5-93c7-477c-9b46-519f71997850"
      },
      "outputs": [
        {
          "name": "stdout",
          "output_type": "stream",
          "text": [
            "Impresso apenas quando x é positivo; x = 5\n",
            "Também só é impresso quando x é positivo; x = 5\n",
            "Sempre impresso, independentemente do valor de x; x = 5\n"
          ]
        }
      ],
      "source": [
        "x = 5\n",
        "if x > 0:\n",
        "  print(\"Impresso apenas quando x é positivo; x =\", x)\n",
        "  print(\"Também só é impresso quando x é positivo; x =\", x)\n",
        "print(\"Sempre impresso, independentemente do valor de x; x =\", x)"
      ]
    },
    {
      "attachments": {},
      "cell_type": "markdown",
      "metadata": {
        "id": "wj7J5w64-z8u"
      },
      "source": [
        "### Conversão booleana\n",
        "Vimos `int()`, que transforma as coisas em ints, e `float()`, que transforma as coisas em floats, então você pode não se surpreender em saber que Python tem uma função `bool()` que transforma as coisas em bools."
      ]
    },
    {
      "cell_type": "code",
      "execution_count": null,
      "metadata": {
        "colab": {
          "base_uri": "https://localhost:8080/"
        },
        "id": "C3edU36Z_IYi",
        "outputId": "0e5e5756-9c7b-4dfb-99a2-0410214cc5c5"
      },
      "outputs": [
        {
          "name": "stdout",
          "output_type": "stream",
          "text": [
            "True\n",
            "False\n",
            "True\n",
            "False\n"
          ]
        }
      ],
      "source": [
        "print(bool(1)) # todos os números são tratados como verdadeiros, exceto 0\n",
        "print(bool(0))\n",
        "print(bool(\"asf\")) # todas as strings são tratadas como verdadeiras, exceto a string vazia \"\"\n",
        "print(bool(\"\"))\n",
        "# Geralmente sequências vazias (strings, listas e outros tipos que ainda não vimos como listas e tuplas)\n",
        "# são \"falsos\" e o resto é \"verdadeiro\""
      ]
    },
    {
      "attachments": {},
      "cell_type": "markdown",
      "metadata": {
        "id": "svDHVW5v_hCa"
      },
      "source": [
        "Podemos usar objetos não booleanos em condições `if` e outros lugares onde um booleano seria esperado. Python irá tratá-los implicitamente como seu valor booleano correspondente:"
      ]
    },
    {
      "cell_type": "code",
      "execution_count": null,
      "metadata": {
        "colab": {
          "base_uri": "https://localhost:8080/"
        },
        "id": "lsVJf0xC_nce",
        "outputId": "2f0d3219-2917-4728-cbec-105a12a27cb1"
      },
      "outputs": [
        {
          "name": "stdout",
          "output_type": "stream",
          "text": [
            "spam\n"
          ]
        }
      ],
      "source": [
        "if 0:\n",
        "  print(0)\n",
        "elif \"spam\":\n",
        "  print(\"spam\")"
      ]
    },
    {
      "cell_type": "code",
      "execution_count": null,
      "metadata": {
        "colab": {
          "base_uri": "https://localhost:8080/"
        },
        "id": "KwF2gB_GAVdX",
        "outputId": "e2380ed1-c373-41aa-8a2d-62eab511f15a"
      },
      "outputs": [
        {
          "name": "stdout",
          "output_type": "stream",
          "text": [
            "executa antes do if\n",
            "Imprimo independente do if\n"
          ]
        }
      ],
      "source": [
        "# Outro exemplo\n",
        "print('executa antes do if')\n",
        "if False:\n",
        "  print('Era verdadeira')\n",
        "  print('Outro Texto dentro do if')\n",
        "print('Imprimo independente do if')"
      ]
    },
    {
      "cell_type": "code",
      "execution_count": null,
      "metadata": {
        "id": "qPN9XcqvTHaK"
      },
      "outputs": [],
      "source": [
        "<- : =\n",
        "=  : ==\n",
        "!= : !="
      ]
    },
    {
      "cell_type": "code",
      "execution_count": null,
      "metadata": {
        "colab": {
          "base_uri": "https://localhost:8080/"
        },
        "id": "7DBV1KJYvjkB",
        "outputId": "6264a79a-b113-4e3f-f09d-1d33379fa6e4"
      },
      "outputs": [
        {
          "name": "stdout",
          "output_type": "stream",
          "text": [
            "3 == 2: False\n",
            "\"texto\" == \"Texto\": False\n",
            "\"2.34\" == 2.34: False\n",
            "2*variavel == 11: False\n",
            "2 > 3: False\n",
            "2 > 2: False\n",
            "2 < 3: True\n",
            "2 < 2: False\n",
            "2 >= 3: False\n",
            "2 >= 2: True\n",
            "2 <= 3: True\n",
            "2 <= 2: True\n",
            "3 != 2: True\n",
            "2 != 2: False\n"
          ]
        }
      ],
      "source": [
        "# Operadores de Comparação \n",
        "\n",
        "print(\"3 == 2:\", 3 == 2) # '==' representa igualdade \n",
        "print('\"texto\" == \"Texto\":', \"texto\" == \"Texto\")\n",
        "print('\"2.34\" == 2.34:', \"2.34\" == 2.34)\n",
        "variavel = 5\n",
        "print(\"2*variavel == 11:\", 2*variavel == 11)\n",
        "\n",
        "print(\"2 > 3:\", 2 > 3) # '>' verifica se o número a esquerda do símbolo é maior que o da direita\n",
        "print(\"2 > 2:\", 2 > 2)\n",
        "print(\"2 < 3:\", 2 < 3) # '<' verifica se o número a esquerda do símbolo é menor que o da direita\n",
        "print(\"2 < 2:\", 2 < 2)\n",
        "\n",
        "print(\"2 >= 3:\", 2 >= 3) # '>=' verifica se o número a esquerda do símbolo é maior ou igual que o da direita\n",
        "print(\"2 >= 2:\", 2 >= 2)\n",
        "print(\"2 <= 3:\", 2 <= 3) # '<=' verifica se o número a esquerda do símbolo é menor ou igual que o da direita\n",
        "print(\"2 <= 2:\", 2 <= 2)\n",
        "\n",
        "print(\"3 != 2:\", 3 != 2) # '!=' verifica se os números são diferentes \n",
        "print(\"2 != 2:\", 2 != 2) # '!=' verifica se os números são diferentes "
      ]
    },
    {
      "cell_type": "code",
      "execution_count": null,
      "metadata": {
        "colab": {
          "base_uri": "https://localhost:8080/"
        },
        "id": "IFnAeN9AHHx6",
        "outputId": "d7e8164b-b075-4047-ab33-44497648ae00"
      },
      "outputs": [
        {
          "name": "stdout",
          "output_type": "stream",
          "text": [
            "Digite a idade da pessoa:\n",
            "25\n",
            "Pode comprar o ingresso\n"
          ]
        }
      ],
      "source": [
        "numero = int(input(\"Digite a idade da pessoa:\\n\"))\n",
        "if numero < 14 :\n",
        "  print(\"Não pode comprar o ingresso\")\n",
        "elif numero > 18:\n",
        "  print(\"Pode comprar o ingresso\")\n",
        "else:\n",
        "  autorizacao = input(\"Tem autorização dos pais\")\n",
        "  # If dentro de outra estrutura. Só é testado se entrar no else hierarquicamente superior\n",
        "  if autorizacao == \"sim\" or autorizacao == \"SIM\" or autorizacao == \"Sim\" or autorizacao == \"SiM\":\n",
        "    print(\"pode comprar o ingresso\")\n",
        "  else:\n",
        "    print(\"não pode comprar o ingresso\")"
      ]
    },
    {
      "cell_type": "code",
      "execution_count": null,
      "metadata": {
        "colab": {
          "base_uri": "https://localhost:8080/"
        },
        "id": "Aw2iw7Kdyhyq",
        "outputId": "dc426c98-15ed-48d2-9784-526ea01903e0"
      },
      "outputs": [
        {
          "name": "stdout",
          "output_type": "stream",
          "text": [
            "Digite o valor de a: -32\n",
            "Digite o valor de b: 45\n",
            "Digite o valor de c: 65\n",
            "O problema a ser resolvido é: -32.0x² + 45.0x + 65.0 = 0\n",
            "O valor de delta é 10345.000\n",
            "Os valores de x1 e x2, respectivamente, são: -0.886 e 2.292\n"
          ]
        }
      ],
      "source": [
        "import math\n",
        "#Calcular o delta e encontrar os valores de x.\n",
        "# a*x² + b*x + c = 0\n",
        "\n",
        "# x² - x + 1 = 0 -> delta = -3 < 0\n",
        "# x² +2x + 1 = 0 -> delta = 0\n",
        "# x^2 - 4x = 0 - > delta = 16 > 0\n",
        "# ax² + bx + c\n",
        "\n",
        "# le os dados de entrada\n",
        "a = float(input(\"Digite o valor de a: \"))\n",
        "b = float(input(\"Digite o valor de b: \"))\n",
        "c = float(input(\"Digite o valor de c: \"))\n",
        "\n",
        "print(f\"O problema a ser resolvido é: {a}x² + {b}x + {c} = 0\")\n",
        "\n",
        "#Calcular o delta\n",
        "delta = b**2 - 4*a*c\n",
        "print(\"O valor de delta é {:.3f}\".format(delta))\n",
        "\n",
        "if delta > 0:\n",
        "  x1 = (- b + math.sqrt(delta)) / (2*a)\n",
        "  x2 = (- b - math.sqrt(delta)) / (2*a)\n",
        "  print(f\"Os valores de x1 e x2, respectivamente, são: {x1:.3f} e {x2:.3f}\")\n",
        "elif delta == 0:\n",
        "  x = (-b) / (2*a)\n",
        "  print(f\"O valor de x é {delta:.3f}\")\n",
        "else:\n",
        "  print(\"O problema não tem soluções reais\")"
      ]
    },
    {
      "cell_type": "code",
      "execution_count": null,
      "metadata": {
        "colab": {
          "base_uri": "https://localhost:8080/"
        },
        "id": "yhmC1YFR1ZOf",
        "outputId": "28234ffd-a37a-4568-9f75-c1babf566063"
      },
      "outputs": [
        {
          "name": "stdout",
          "output_type": "stream",
          "text": [
            "Digite o preço da Gasolina:10\n",
            "Digite o preço da Etanol:7.0000000001\n",
            "Abasteça com Gasolina\n"
          ]
        }
      ],
      "source": [
        "##  Carro flex \n",
        "\n",
        "## se o valor etanol for maior que 70% do valor do valor gasolina -> gasolina\n",
        "## se o valor do etanol for menor ou igual a 70% do valor gasolina -> etanol\n",
        "\n",
        "preco_gasolina = float(input(\"Digite o preço da Gasolina:\"))\n",
        "preco_etanol = float(input(\"Digite o preço da Etanol:\"))\n",
        "if preco_etanol/preco_gasolina > 0.7:\n",
        "  print(\"Abasteça com Gasolina\")\n",
        "else:\n",
        "  print(\"Abasteça com Etanol\")\n",
        "\n",
        "\n",
        "\n",
        "#gasolina, etanol = 4, 1 # etanol\n",
        "#gasolina, etanol = 4, 3 # gasolina\n",
        "#gasolina, etanol = 10, 7 # etanol\n",
        "#gasolina, etanol = 10, 7.0000000001 Gasolina"
      ]
    },
    {
      "attachments": {},
      "cell_type": "markdown",
      "metadata": {
        "id": "zGNPUq9q3AYn"
      },
      "source": [
        "### Exercicio\n",
        "dada a tabela o IR, faça um programa que recebe o salário de um trabalhador e devolve o valor do imposto.\n",
        "\n",
        "|Base de cálculo (R$)\t|Alíquota (%)|\n",
        "--------------------- |-------------|\n",
        "|Abaixo de 1.903,99    | 0%  |\n",
        "|De 1.903,99 até 2.826,65|\t7,5%\t|\n",
        "|De 2.826,66 até 3.751,05|\t15%\t|\n",
        "|De 3.751,06 até 4.664,68|\t22,5%\t|\n",
        "|Acima de 4.664,68|\t27,5%|"
      ]
    },
    {
      "cell_type": "code",
      "execution_count": null,
      "metadata": {
        "colab": {
          "base_uri": "https://localhost:8080/"
        },
        "id": "pI9OproNDY8w",
        "outputId": "0636d67a-2595-4b95-933f-469e81cd3565"
      },
      "outputs": [
        {
          "name": "stdout",
          "output_type": "stream",
          "text": [
            "Digite seu salário: 2000\n",
            "O imposto de renda a pagar é: R$ 150.00\n"
          ]
        }
      ],
      "source": [
        "salario  = float(input(\"Digite seu salário: \"))\n",
        "if salario < 1903.99:\n",
        "  aliquota = 0\n",
        "elif salario < 2826.65:\n",
        "  aliquota = 7.5/100 #0.075\n",
        "elif salario < 3751.05:\n",
        "  aliquota = 15/100 #0.15\n",
        "elif salario < 4664.68:\n",
        "  aliquota = 22.5/100 #0.225\n",
        "else:\n",
        "  aliquota = 27.5/100 #0.275\n",
        "\n",
        "imposto = salario * aliquota\n",
        "if imposto == 0:\n",
        "  print(\"Você está isento do IR\")\n",
        "else:\n",
        "  print(f\"O imposto de renda a pagar é: R$ {imposto:.2f}\")"
      ]
    },
    {
      "attachments": {},
      "cell_type": "markdown",
      "metadata": {
        "id": "8HFQIKyuDhEN"
      },
      "source": [
        "## Aula 13/07/2021\n",
        "---\n",
        "*Assuntos:*\n",
        "* Laços de repetição (loops)\n",
        "* Material de estudo:\n",
        " * https://panda.ime.usp.br/pensepy/static/pensepy/07-Iteracao/maisiteracao.html\n",
        " * https://panda.ime.usp.br/aulasPython/static/aulasPython/while.html\n",
        "\n",
        "### Laços de repetição (While)\n",
        "Os loops são uma forma de executar algum código repetidamente. Um dos tipos de loop em Python é um loop `while`, que itera até que alguma condição seja atendida. Aqui está um exemplo:"
      ]
    },
    {
      "cell_type": "code",
      "execution_count": null,
      "metadata": {
        "colab": {
          "base_uri": "https://localhost:8080/"
        },
        "id": "vLwOuQHdSBhV",
        "outputId": "a74a890d-af19-4863-fbc1-2f97e47d968d"
      },
      "outputs": [
        {
          "name": "stdout",
          "output_type": "stream",
          "text": [
            "10\n",
            "5.0\n",
            "2.5\n",
            "1.25\n",
            "terminou\n",
            "Terminou 2\n"
          ]
        }
      ],
      "source": [
        "numero = 10 # inicialização\n",
        "\n",
        "while numero >= 1: # a condição é verdadeira\n",
        "  print(numero)\n",
        "  numero = numero / 2 # atualiza a condição\n",
        "print('terminou')\n",
        "print(\"Terminou 2\")\n",
        "\n",
        "\n",
        "# numero = 10 -> 5.0 -> 2.5 -> 1,25 -> 0.625\n",
        "# 0.625 >= 1 -> False\n",
        "# imprimiu 10 - 5.0 - 2.5 - 1.25 - terminou "
      ]
    },
    {
      "attachments": {},
      "cell_type": "markdown",
      "metadata": {
        "id": "KIiUj_lnF2Ug"
      },
      "source": [
        "O argumento do loop `while` é avaliado como uma instrução booleana e o loop é executado até que a instrução seja avaliada como `False`."
      ]
    },
    {
      "cell_type": "code",
      "execution_count": null,
      "metadata": {
        "colab": {
          "base_uri": "https://localhost:8080/"
        },
        "id": "4BsdnkpXwlP4",
        "outputId": "4977a201-6e79-4bb0-f690-5fb932efce56"
      },
      "outputs": [
        {
          "name": "stdout",
          "output_type": "stream",
          "text": [
            "0, 1, 2, 3, 4, 5, 6, 7, 8, 9, 10, "
          ]
        }
      ],
      "source": [
        "#inicializando a variável numero\n",
        "numero = 0\n",
        "\n",
        "while numero <= 10:\n",
        "  print(numero, end=\", \")\n",
        "  numero = numero + 1\n",
        "\n",
        "# 11 <= 10 -> False\n",
        "# numero = 0 -> 1 -> 2 ... -> 9 -> 10 -> 11\n",
        "# imprime 0, 1, 2, 3, 4, 5, 6, 7, 8, 9, 10, "
      ]
    },
    {
      "cell_type": "code",
      "execution_count": null,
      "metadata": {
        "colab": {
          "base_uri": "https://localhost:8080/"
        },
        "id": "JOHNNi2e1YMK",
        "outputId": "0c3bb691-c671-445b-b855-d907cafb6146"
      },
      "outputs": [
        {
          "name": "stdout",
          "output_type": "stream",
          "text": [
            "digite a base3\n",
            "digite o expoente4\n",
            " O calculo deu  81\n"
          ]
        }
      ],
      "source": [
        "## Fazer um código python que calcula x^y sem utilizar a notação x**y. Use o while.\n",
        "## Receba o x e o y do usuário\n",
        "\n",
        "n = int(input(\"digite a base \"))\n",
        "e = int(input(\"digite o expoente \"))\n",
        "j = 1\n",
        "k = n\n",
        "while j != e:\n",
        "  n = k*n\n",
        "  j= j+1\n",
        "print(\" O calculo deu\", n)"
      ]
    },
    {
      "cell_type": "code",
      "execution_count": null,
      "metadata": {
        "colab": {
          "base_uri": "https://localhost:8080/"
        },
        "id": "eUk0gZqw3m6-",
        "outputId": "794745b4-cc16-4106-c08e-26bad2a7f3a2"
      },
      "outputs": [
        {
          "name": "stdout",
          "output_type": "stream",
          "text": [
            "Coloque aqui um número: 10\n",
            "Coloque aqui um número: 5\n",
            "Coloque aqui um número: 15\n",
            "Coloque aqui um número: 0\n",
            "Coloque aqui um número: -1\n",
            "A media é 7.5\n"
          ]
        }
      ],
      "source": [
        "## Le números do usuário até ele digitar o numero -1 (ok)\n",
        "## Calcula a média dos números digitados\n",
        "\n",
        "number = int(input(\"Coloque aqui um número: \"))\n",
        "media = 0\n",
        "qtdNumeros = 0\n",
        "somaNumeros = 0\n",
        "while number != -1:\n",
        "  somaNumeros = somaNumeros + number\n",
        "  qtdNumeros = qtdNumeros + 1\n",
        "  number = int(input(\"Coloque aqui um número: \"))\n",
        "media = somaNumeros / qtdNumeros\n",
        "print(\"A media é\", media)"
      ]
    },
    {
      "cell_type": "code",
      "execution_count": null,
      "metadata": {
        "id": "18OFHD7T-D-S"
      },
      "outputs": [],
      "source": [
        "# Dado um número inteiro n, n>1, imprimir sua decomposição em fatores primos, \n",
        "# indicando também a multiplicidade de cada fator.\n",
        "# Dica: Utilizar um while dentro de outro. \n",
        "# Exemplos:\n",
        "# 8 = 2 * 2 * 2\n",
        "# 20 = 2 * 2 * 5\n",
        "# 1000 = 2^3 * 5^3\n"
      ]
    },
    {
      "attachments": {},
      "cell_type": "markdown",
      "metadata": {
        "id": "SDK0O8swGTM5"
      },
      "source": [
        "## Aula 14/07/2021\n",
        "---\n",
        "*Assuntos:*\n",
        "* Comando `for`\n",
        "* Material de estudo: https://panda.ime.usp.br/pensepy/static/pensepy/07-Iteracao/maisiteracao.html\n",
        "\n",
        "### Laço for (para)\n",
        "Os loops são uma forma de executar algum código repetidamente. Vamos ver um exemplo:"
      ]
    },
    {
      "cell_type": "code",
      "execution_count": null,
      "metadata": {
        "colab": {
          "base_uri": "https://localhost:8080/"
        },
        "id": "7goeloaoG5UO",
        "outputId": "6b68216e-39da-4cff-a425-ca405a315029"
      },
      "outputs": [
        {
          "name": "stdout",
          "output_type": "stream",
          "text": [
            "Bulbasaur Charmander Squirtle Caterpie Pidgeotto Pikachu Kadabra Magmar Abra "
          ]
        }
      ],
      "source": [
        "pokemons = ['Bulbasaur', 'Charmander', 'Squirtle', 'Caterpie', 'Pidgeotto',\n",
        "            'Pikachu', 'Kadabra', 'Magmar', 'Abra']\n",
        "#print(pokemons[5])\n",
        "\n",
        "for pokemon in pokemons:\n",
        "  print(pokemon, end=' ') # print todos em uma única linha\n",
        "print(\"Olá Mundo!\")"
      ]
    },
    {
      "attachments": {},
      "cell_type": "markdown",
      "metadata": {
        "id": "9kQsHI4VHwXS"
      },
      "source": [
        "O loop `for` especifica:\n",
        "\n",
        "* nome da variável a ser usado (neste caso, `pokemon`)\n",
        "* conjunto de valores a serem repetidos (neste caso, `pokemons`)\n",
        "\n",
        "Você usa a palavra \"`in`\" para vinculá-los.\n",
        "\n",
        "O objeto à direita do \"`in`\" pode ser qualquer objeto que suporte iteração. Basicamente, se pode ser pensado como um grupo de coisas, você provavelmente pode fazer um loop sobre ele. Outro exemplo:"
      ]
    },
    {
      "cell_type": "code",
      "execution_count": null,
      "metadata": {
        "colab": {
          "base_uri": "https://localhost:8080/"
        },
        "id": "qLanuXBaIckl",
        "outputId": "9343b03f-2353-4065-b387-034fffa302d4"
      },
      "outputs": [
        {
          "name": "stdout",
          "output_type": "stream",
          "text": [
            "a variável i vale: 5\n",
            "o tipo de i é: <class 'int'>\n",
            "a variável i vale: texto\n",
            "o tipo de i é: <class 'str'>\n",
            "a variável i vale: 2\n",
            "o tipo de i é: <class 'int'>\n",
            "a variável i vale: -1\n",
            "o tipo de i é: <class 'int'>\n",
            "a variável i vale: 4.56\n",
            "o tipo de i é: <class 'float'>\n",
            "a variável i vale: True\n",
            "o tipo de i é: <class 'bool'>\n",
            "acabou\n"
          ]
        }
      ],
      "source": [
        "lista_qualquer_coisa = [5 , \"texto\", 2 , -1, 4.56, True]\n",
        "for i in lista_qualquer_coisa:\n",
        "  print(\"a variável i vale:\", i)\n",
        "  print(f\"a variável i vale: {i}\")\n",
        "\n",
        "print(\"acabou\")"
      ]
    },
    {
      "attachments": {},
      "cell_type": "markdown",
      "metadata": {
        "id": "4kBL0sL3I8Bk"
      },
      "source": [
        "#### range()\n",
        "`range()` é uma função que retorna uma sequência de números. É muito útil para escrever loops.\n",
        "\n",
        "Por exemplo, se quisermos repetir alguma ação 5 vezes:"
      ]
    },
    {
      "cell_type": "code",
      "execution_count": null,
      "metadata": {
        "colab": {
          "base_uri": "https://localhost:8080/"
        },
        "id": "Bee3dV5oJOcC",
        "outputId": "6ffab659-8c45-46ee-eb83-44206c605966"
      },
      "outputs": [
        {
          "name": "stdout",
          "output_type": "stream",
          "text": [
            "Fazendo um trabalho importante. i = 0\n",
            "Fazendo um trabalho importante. i = 1\n",
            "Fazendo um trabalho importante. i = 2\n",
            "Fazendo um trabalho importante. i = 3\n",
            "Fazendo um trabalho importante. i = 4\n"
          ]
        }
      ],
      "source": [
        "for i in range(5):\n",
        "  print(\"Fazendo um trabalho importante. i =\", i)"
      ]
    },
    {
      "cell_type": "code",
      "execution_count": null,
      "metadata": {
        "colab": {
          "base_uri": "https://localhost:8080/"
        },
        "id": "VYSfK3Ivuluf",
        "outputId": "3f28559d-e98b-48b1-84ea-6070d671bbdd"
      },
      "outputs": [
        {
          "name": "stdout",
          "output_type": "stream",
          "text": [
            "Digite um número: 10\n",
            "Digite um número: 10\n",
            "Entrou no primeiro\n",
            "Entrou no segundo\n",
            "Digite um número: 15\n",
            "Entrou no segundo\n",
            "Digite um número: 29\n",
            "Entrou no segundo\n",
            "Digite um número: 9\n",
            "Entrou no primeiro\n",
            "Digite um número: 8\n",
            "Entrou no primeiro\n",
            "Digite um número: 4\n",
            "Entrou no primeiro\n",
            "Digite um número: 93\n",
            "Entrou no segundo\n",
            "Digite um número: 1\n",
            "Entrou no primeiro\n",
            "Digite um número: 2\n",
            "O maior valor digitado foi 93\n",
            "O menor valor digitado foi 1\n"
          ]
        }
      ],
      "source": [
        "##Ler 10 números do usuário e apresentar qual o maior e menor número digitado\n",
        "x = int(input(\"Digite um número: \"))\n",
        "maior = x\n",
        "menor = x\n",
        "\n",
        "for i in range(9):\n",
        "  x = int(input(\"Digite um número: \"))\n",
        "  if x <= menor:\n",
        "    menor = x\n",
        "    print(\"Entrou no primeiro\")\n",
        "  if x >= maior:\n",
        "    maior = x\n",
        "    print(\"Entrou no segundo\")\n",
        "\n",
        "print(f\"O maior valor digitado foi {maior}\")\n",
        "print(f\"O menor valor digitado foi {menor}\")"
      ]
    },
    {
      "cell_type": "code",
      "execution_count": null,
      "metadata": {
        "colab": {
          "base_uri": "https://localhost:8080/"
        },
        "id": "bYfbt_77u99Y",
        "outputId": "78756a77-2678-43b9-813a-7da8d7b3a587"
      },
      "outputs": [
        {
          "name": "stdout",
          "output_type": "stream",
          "text": [
            "Digite seu nome: Regiane\n",
            "Digite a primeira nota: 7\n",
            "Digite a segunda nota: 8\n",
            "Digite a terceira nota: 9\n",
            "Digite seu nome: Ítalo\n",
            "Digite a primeira nota: 8\n",
            "Digite a segunda nota: 9\n",
            "Digite a terceira nota: 10\n",
            "A média da turma é 8.5\n"
          ]
        }
      ],
      "source": [
        "# Faça um programa que recebe o nome e calcula a média de 3 notas de 15 alunos e \n",
        "# em seguida imprime a média da turma.\n",
        "\n",
        "somaMedias = 0\n",
        "qtdAlunos = 15\n",
        "\n",
        "for x in range(qtdAlunos):\n",
        "  nome = input(\"Digite seu nome: \")\n",
        "  n1 = float(input(\"Digite a primeira nota: \"))\n",
        "  n2 = float(input(\"Digite a segunda nota: \"))\n",
        "  n3 = float(input(\"Digite a terceira nota: \"))\n",
        "\n",
        "  somaMedias = somaMedias + ((n1+n2+n3)/3)\n",
        "\n",
        "media = somaMedias/qtdAlunos\n",
        "print(f\"A média da turma é {media}\")\n"
      ]
    },
    {
      "attachments": {},
      "cell_type": "markdown",
      "metadata": {
        "id": "GJGSwm3VJljp"
      },
      "source": [
        "## Aula 20/07/2021\n",
        "---\n",
        "*Assuntos:*\n",
        "* Compreensão de listas\n",
        "* Material de estudo: https://panda.ime.usp.br/pensepy/static/pensepy/09-Listas/listas.html\n",
        "\n",
        "### Listas"
      ]
    },
    {
      "attachments": {},
      "cell_type": "markdown",
      "metadata": {
        "id": "isf3d-wB_elc"
      },
      "source": [
        "As listas em Python representam sequências ordenadas de valores. Aqui está um exemplo de como criá-los:\n"
      ]
    },
    {
      "cell_type": "code",
      "execution_count": null,
      "metadata": {
        "id": "m6uvTmth_lZd"
      },
      "outputs": [],
      "source": [
        "primos = [2, 3, 5, 7, 11, 13]"
      ]
    },
    {
      "cell_type": "code",
      "execution_count": null,
      "metadata": {
        "colab": {
          "base_uri": "https://localhost:8080/"
        },
        "id": "ttxhs9cG0tMr",
        "outputId": "1bf1a627-1d3e-4f7e-f87b-68291850ea3b"
      },
      "outputs": [
        {
          "data": {
            "text/plain": [
              "7"
            ]
          },
          "execution_count": 11,
          "metadata": {
            "tags": []
          },
          "output_type": "execute_result"
        }
      ],
      "source": [
        "primos[3]"
      ]
    },
    {
      "attachments": {},
      "cell_type": "markdown",
      "metadata": {
        "id": "2NwGJlUe_v4E"
      },
      "source": [
        "Podemos colocar outros tipos de coisas nas listas:"
      ]
    },
    {
      "cell_type": "code",
      "execution_count": null,
      "metadata": {
        "id": "Zn5XODNM_wyK"
      },
      "outputs": [],
      "source": [
        "planetas = ['Mercúrio', 'Venus', 'Terra', 'Marte', 'Jupiter', 'Saturno', 'Urano', 'Netuno']"
      ]
    },
    {
      "cell_type": "code",
      "execution_count": null,
      "metadata": {
        "colab": {
          "base_uri": "https://localhost:8080/",
          "height": 35
        },
        "id": "11O8PL7o0uYd",
        "outputId": "64f19379-040c-426b-ea53-a90598645491"
      },
      "outputs": [
        {
          "data": {
            "application/vnd.google.colaboratory.intrinsic+json": {
              "type": "string"
            },
            "text/plain": [
              "'Terra'"
            ]
          },
          "execution_count": 12,
          "metadata": {
            "tags": []
          },
          "output_type": "execute_result"
        }
      ],
      "source": [
        "planetas[2]"
      ]
    },
    {
      "attachments": {},
      "cell_type": "markdown",
      "metadata": {
        "id": "anect0hb_-Ae"
      },
      "source": [
        "Podemos até fazer uma lista de listas:"
      ]
    },
    {
      "cell_type": "code",
      "execution_count": null,
      "metadata": {
        "id": "Z6OGp2oYABp2"
      },
      "outputs": [],
      "source": [
        "hands = [\n",
        "    ['J', 'Q', 'K'],\n",
        "    ['2', '2', '2'],\n",
        "    ['6', 'A', 'K'], # (A vírgula após o último elemento é opcional)\n",
        "]"
      ]
    },
    {
      "cell_type": "code",
      "execution_count": null,
      "metadata": {
        "id": "5dJVyJJN1nj6"
      },
      "outputs": [],
      "source": [
        "hands = [['J', 'Q', 'K'], ['2', '2', '2'], ['6', 'A', 'K']]"
      ]
    },
    {
      "cell_type": "code",
      "execution_count": null,
      "metadata": {
        "colab": {
          "base_uri": "https://localhost:8080/",
          "height": 35
        },
        "id": "xEQpiTbA0d_M",
        "outputId": "bc91dbb4-1a93-4462-9af4-c2284609941f"
      },
      "outputs": [
        {
          "data": {
            "application/vnd.google.colaboratory.intrinsic+json": {
              "type": "string"
            },
            "text/plain": [
              "'K'"
            ]
          },
          "execution_count": 17,
          "metadata": {
            "tags": []
          },
          "output_type": "execute_result"
        }
      ],
      "source": [
        "hands[2][2]\n",
        "\n",
        "listaInterna = hands[2]\n",
        "listaInterna[2]"
      ]
    },
    {
      "attachments": {},
      "cell_type": "markdown",
      "metadata": {
        "id": "c5lK9_r0AOnz"
      },
      "source": [
        "Uma lista pode conter uma combinação de diferentes tipos de variáveis:"
      ]
    },
    {
      "cell_type": "code",
      "execution_count": null,
      "metadata": {
        "id": "0r1qdCR1ARk1"
      },
      "outputs": [],
      "source": [
        "minhas_coisas_favoritas = [32, 'raindrops on roses', help]\n",
        "# (Sim, a função de ajuda do Python é *definitivamente* uma das minhas coisas favoritas)"
      ]
    },
    {
      "cell_type": "code",
      "execution_count": null,
      "metadata": {
        "colab": {
          "base_uri": "https://localhost:8080/"
        },
        "id": "3oLUfsGHl8c5",
        "outputId": "13363fdd-3136-474f-d625-090f29ca5405"
      },
      "outputs": [
        {
          "name": "stdout",
          "output_type": "stream",
          "text": [
            "Help on method raw_input in module ipykernel.kernelbase:\n",
            "\n",
            "raw_input(prompt='') method of google.colab._kernel.Kernel instance\n",
            "    Forward raw_input to frontends\n",
            "    \n",
            "    Raises\n",
            "    ------\n",
            "    StdinNotImplentedError if active frontend doesn't support stdin.\n",
            "\n"
          ]
        }
      ],
      "source": [
        "help(input)"
      ]
    },
    {
      "attachments": {},
      "cell_type": "markdown",
      "metadata": {
        "id": "1Qq_0ld0AuD1"
      },
      "source": [
        "###Indexando\n",
        "Você pode acessar elementos de lista individuais com colchetes.\n",
        "\n",
        "Qual planeta está mais próximo do sol? Python usa indexação baseada em zero, então o primeiro elemento tem índice 0."
      ]
    },
    {
      "cell_type": "code",
      "execution_count": null,
      "metadata": {
        "colab": {
          "base_uri": "https://localhost:8080/",
          "height": 35
        },
        "id": "UABZxr0MA1Gx",
        "outputId": "5d75a8ba-cd70-4cf9-e707-8aab6ca7a0ed"
      },
      "outputs": [
        {
          "data": {
            "application/vnd.google.colaboratory.intrinsic+json": {
              "type": "string"
            },
            "text/plain": [
              "'Mercúrio'"
            ]
          },
          "execution_count": 4,
          "metadata": {
            "tags": []
          },
          "output_type": "execute_result"
        }
      ],
      "source": [
        "planetas[0]"
      ]
    },
    {
      "attachments": {},
      "cell_type": "markdown",
      "metadata": {
        "id": "W4efESgoA-j2"
      },
      "source": [
        "Qual é o próximo planeta mais próximo?"
      ]
    },
    {
      "cell_type": "code",
      "execution_count": null,
      "metadata": {
        "colab": {
          "base_uri": "https://localhost:8080/",
          "height": 35
        },
        "id": "Um_vRHi1BAoF",
        "outputId": "583f6f21-4249-4ddc-9559-e9e6d94596ff"
      },
      "outputs": [
        {
          "data": {
            "application/vnd.google.colaboratory.intrinsic+json": {
              "type": "string"
            },
            "text/plain": [
              "'Venus'"
            ]
          },
          "execution_count": 5,
          "metadata": {
            "tags": []
          },
          "output_type": "execute_result"
        }
      ],
      "source": [
        "planetas[1]"
      ]
    },
    {
      "attachments": {},
      "cell_type": "markdown",
      "metadata": {
        "id": "zPhA9RsMBOKp"
      },
      "source": [
        "Qual planeta está mais distante do sol?\n",
        "\n",
        "Os elementos no final da lista podem ser acessados com números negativos, a partir de -1:"
      ]
    },
    {
      "cell_type": "code",
      "execution_count": null,
      "metadata": {
        "colab": {
          "base_uri": "https://localhost:8080/",
          "height": 35
        },
        "id": "OM5meexCBSIk",
        "outputId": "e09a510f-1d96-434e-d93a-65ebcce6e5ad"
      },
      "outputs": [
        {
          "data": {
            "application/vnd.google.colaboratory.intrinsic+json": {
              "type": "string"
            },
            "text/plain": [
              "'Netuno'"
            ]
          },
          "execution_count": 6,
          "metadata": {
            "tags": []
          },
          "output_type": "execute_result"
        }
      ],
      "source": [
        "planetas[-1]"
      ]
    },
    {
      "cell_type": "code",
      "execution_count": null,
      "metadata": {
        "colab": {
          "base_uri": "https://localhost:8080/",
          "height": 35
        },
        "id": "kxaGUva7BWTQ",
        "outputId": "04611437-2f29-48fc-a636-5d7896463820"
      },
      "outputs": [
        {
          "data": {
            "application/vnd.google.colaboratory.intrinsic+json": {
              "type": "string"
            },
            "text/plain": [
              "'Urano'"
            ]
          },
          "execution_count": 7,
          "metadata": {
            "tags": []
          },
          "output_type": "execute_result"
        }
      ],
      "source": [
        "planetas[-2]"
      ]
    },
    {
      "attachments": {},
      "cell_type": "markdown",
      "metadata": {
        "id": "8wbxnUYcBYuT"
      },
      "source": [
        "### Fatiamento (*Slicing*)\n",
        "Quais são os três primeiros planetas? Podemos responder a esta pergunta usando o *fatiamento*:"
      ]
    },
    {
      "cell_type": "code",
      "execution_count": null,
      "metadata": {
        "colab": {
          "base_uri": "https://localhost:8080/"
        },
        "id": "7YqXXBe8BmSc",
        "outputId": "357bc093-50ec-4ec6-a757-90958c3ea7ea"
      },
      "outputs": [
        {
          "data": {
            "text/plain": [
              "['Mercúrio', 'Venus', 'Terra']"
            ]
          },
          "execution_count": 8,
          "metadata": {
            "tags": []
          },
          "output_type": "execute_result"
        }
      ],
      "source": [
        "planetas[0:3]"
      ]
    },
    {
      "attachments": {},
      "cell_type": "markdown",
      "metadata": {
        "id": "UR-HWJZRBuAM"
      },
      "source": [
        "`planetas[0:3]` é a nossa maneira de solicitar os elementos dos `planetas` a partir do índice 0 e continuando até, *mas não incluindo* o índice 3.\n",
        "\n",
        "Os índices inicial e final são opcionais. Se eu deixar de fora o índice inicial, ele será considerado 0. Portanto, eu poderia reescrever a expressão acima como:"
      ]
    },
    {
      "cell_type": "code",
      "execution_count": null,
      "metadata": {
        "colab": {
          "base_uri": "https://localhost:8080/"
        },
        "id": "hymMBI0eB9-p",
        "outputId": "54057e4a-71d8-41ee-df35-5f41b871183a"
      },
      "outputs": [
        {
          "data": {
            "text/plain": [
              "['Mercúrio', 'Venus', 'Terra']"
            ]
          },
          "execution_count": 9,
          "metadata": {
            "tags": []
          },
          "output_type": "execute_result"
        }
      ],
      "source": [
        "planetas[:3]"
      ]
    },
    {
      "attachments": {},
      "cell_type": "markdown",
      "metadata": {
        "id": "ArQzy8-QCGWz"
      },
      "source": [
        "Se eu deixar de fora o índice final, ele será considerado o comprimento da lista."
      ]
    },
    {
      "cell_type": "code",
      "execution_count": null,
      "metadata": {
        "id": "YTuMDj4roeSm"
      },
      "outputs": [],
      "source": [
        "planetas = ['Mercúrio', 'Venus', 'Terra', 'Marte', 'Jupiter', 'Saturno', 'Urano', 'Netuno']"
      ]
    },
    {
      "cell_type": "code",
      "execution_count": null,
      "metadata": {
        "colab": {
          "base_uri": "https://localhost:8080/"
        },
        "id": "6uavTaaVCHRf",
        "outputId": "a1337d42-4d5a-4adf-84b3-e8e6c7153b83"
      },
      "outputs": [
        {
          "data": {
            "text/plain": [
              "['Marte', 'Jupiter', 'Saturno', 'Urano', 'Netuno']"
            ]
          },
          "execution_count": 10,
          "metadata": {
            "tags": []
          },
          "output_type": "execute_result"
        }
      ],
      "source": [
        "planetas[3:]"
      ]
    },
    {
      "attachments": {},
      "cell_type": "markdown",
      "metadata": {
        "id": "6_bmywYFCOIC"
      },
      "source": [
        "ou seja, a expressão acima significa \"dê-me todos os planetas do índice 3 em diante\".\n",
        "\n",
        "Também podemos usar índices negativos ao fatiar:"
      ]
    },
    {
      "cell_type": "code",
      "execution_count": null,
      "metadata": {
        "colab": {
          "base_uri": "https://localhost:8080/"
        },
        "id": "IM3bXnWc_vIK",
        "outputId": "fbf30021-d1aa-4c24-a3ef-1c8fe5d1787d"
      },
      "outputs": [
        {
          "data": {
            "text/plain": [
              "['Venus', 'Terra', 'Marte', 'Jupiter', 'Saturno', 'Urano']"
            ]
          },
          "execution_count": 15,
          "metadata": {
            "tags": []
          },
          "output_type": "execute_result"
        }
      ],
      "source": [
        "# Todos os planetas, exceto o primeiro e o último\n",
        "planetas[1:-1]"
      ]
    },
    {
      "cell_type": "code",
      "execution_count": null,
      "metadata": {
        "colab": {
          "base_uri": "https://localhost:8080/"
        },
        "id": "djydNm1fCjRD",
        "outputId": "3e9c1859-b645-43b2-ce99-d69fe05d7e13"
      },
      "outputs": [
        {
          "data": {
            "text/plain": [
              "['Saturno', 'Urano', 'Netuno']"
            ]
          },
          "execution_count": 16,
          "metadata": {
            "tags": []
          },
          "output_type": "execute_result"
        }
      ],
      "source": [
        "# Os últimos 3 planetas\n",
        "planetas[-3:]"
      ]
    },
    {
      "attachments": {},
      "cell_type": "markdown",
      "metadata": {
        "id": "1CR_Oz0sCqxD"
      },
      "source": [
        "### Mudança em listas\n",
        "As listas são \"mutáveis\", o que significa que podem ser modificadas \"no local\".\n",
        "\n",
        "Uma maneira de modificar uma lista é atribuí-la a um índice ou expressão de fatiamento.\n",
        "\n",
        "Por exemplo, digamos que queremos renomear Marte:"
      ]
    },
    {
      "cell_type": "code",
      "execution_count": null,
      "metadata": {
        "colab": {
          "base_uri": "https://localhost:8080/"
        },
        "id": "bomk5ZcVC8Wa",
        "outputId": "9b16d749-a0bc-466a-81b9-e8ed066095f6"
      },
      "outputs": [
        {
          "data": {
            "text/plain": [
              "['Mercúrio',\n",
              " 'Venus',\n",
              " 'Terra',\n",
              " 'Malacandra',\n",
              " 'Jupiter',\n",
              " 'Saturno',\n",
              " 'Urano',\n",
              " 'Netuno']"
            ]
          },
          "execution_count": 19,
          "metadata": {
            "tags": []
          },
          "output_type": "execute_result"
        }
      ],
      "source": [
        "#planetas = ['Mercúrio', 'Venus', 'Terra', 'Marte', 'Jupiter', 'Saturno', 'Urano', 'Netuno']\n",
        "planetas[3] = 'Malacandra'\n"
      ]
    },
    {
      "cell_type": "code",
      "execution_count": null,
      "metadata": {
        "colab": {
          "base_uri": "https://localhost:8080/"
        },
        "id": "LVgUe1Afp4v4",
        "outputId": "8acb9771-a605-4fdf-8b25-1c091c5c7de1"
      },
      "outputs": [
        {
          "name": "stdout",
          "output_type": "stream",
          "text": [
            "['Mercúrio', 'Venus', 'Terra', 'Malacandra', 'Jupiter', 'Saturno', 'Urano', 'Netuno']\n"
          ]
        }
      ],
      "source": [
        "print(planetas)"
      ]
    },
    {
      "attachments": {},
      "cell_type": "markdown",
      "metadata": {
        "id": "6-5-e8DEDFT1"
      },
      "source": [
        "Hm, isso é um bem interessante. Mas e se quisermos abreviar a mudança de vários campos?\n",
        "\n",
        "Vamos compensar encurtando os nomes dos primeiros 3 planetas."
      ]
    },
    {
      "cell_type": "code",
      "execution_count": null,
      "metadata": {
        "colab": {
          "base_uri": "https://localhost:8080/"
        },
        "id": "CTOUasieDTet",
        "outputId": "99b4229d-9e18-404d-cd5e-8e9efc64f76d"
      },
      "outputs": [
        {
          "name": "stdout",
          "output_type": "stream",
          "text": [
            "['Mur', 'Vee', 'Ur', 'Malacandra', 'Jupiter', 'Saturno', 'Urano', 'Netuno']\n"
          ]
        }
      ],
      "source": [
        "planetas[:3] = ['Mur', 'Vee', 'Ur']\n",
        "print(planetas)\n",
        "# Isso foi bobagem. Vamos devolver seus nomes antigos\n",
        "planetas[:4] = ['Mercurio', 'Venus', 'Terra', 'Marte',]"
      ]
    },
    {
      "cell_type": "code",
      "execution_count": null,
      "metadata": {
        "colab": {
          "base_uri": "https://localhost:8080/"
        },
        "id": "gWt0Y7JVqrNs",
        "outputId": "ea261f96-d212-4749-f873-8b174a4be0cf"
      },
      "outputs": [
        {
          "name": "stdout",
          "output_type": "stream",
          "text": [
            "['Mercurio', 'Venus', 'Terra', 'Marte', 'Jupiter', 'Saturno', 'Urano', 'Netuno']\n"
          ]
        }
      ],
      "source": [
        "print(planetas)"
      ]
    },
    {
      "attachments": {},
      "cell_type": "markdown",
      "metadata": {
        "id": "22qeAQtdDmNL"
      },
      "source": [
        "### Funções de lista\n",
        "Python tem várias funções úteis para trabalhar com listas.\n",
        "\n",
        "`len` fornece o comprimento de uma lista:"
      ]
    },
    {
      "cell_type": "code",
      "execution_count": null,
      "metadata": {
        "colab": {
          "base_uri": "https://localhost:8080/"
        },
        "id": "q5Z_G25aDwuo",
        "outputId": "9483e855-7b9c-4204-ac87-7f41a57bb597"
      },
      "outputs": [
        {
          "data": {
            "text/plain": [
              "8"
            ]
          },
          "execution_count": 27,
          "metadata": {
            "tags": []
          },
          "output_type": "execute_result"
        }
      ],
      "source": [
        "# Quantos planetas existem?\n",
        "len(planetas)"
      ]
    },
    {
      "attachments": {},
      "cell_type": "markdown",
      "metadata": {
        "id": "7Uv6rv8rD2YT"
      },
      "source": [
        "`sorted` retorna uma versão ordenada de uma lista:"
      ]
    },
    {
      "cell_type": "code",
      "execution_count": null,
      "metadata": {
        "colab": {
          "base_uri": "https://localhost:8080/"
        },
        "id": "T9Otup1UD9gJ",
        "outputId": "69c19fee-df3c-4fb3-9541-bbcf7ad929d0"
      },
      "outputs": [
        {
          "data": {
            "text/plain": [
              "['Jupiter',\n",
              " 'Marte',\n",
              " 'Mercurio',\n",
              " 'Netuno',\n",
              " 'Saturno',\n",
              " 'Terra',\n",
              " 'Urano',\n",
              " 'Venus']"
            ]
          },
          "execution_count": 29,
          "metadata": {
            "tags": []
          },
          "output_type": "execute_result"
        }
      ],
      "source": [
        "# Os planetas classificados em ordem alfabética\n",
        "sorted(planetas)"
      ]
    },
    {
      "attachments": {},
      "cell_type": "markdown",
      "metadata": {
        "id": "WhMWVJHwELJf"
      },
      "source": [
        "`sum` faz o que você espera:"
      ]
    },
    {
      "cell_type": "code",
      "execution_count": null,
      "metadata": {
        "colab": {
          "base_uri": "https://localhost:8080/"
        },
        "id": "qZ57gOc2EM7S",
        "outputId": "22b80f35-661f-45c8-b473-23a68df34d17"
      },
      "outputs": [
        {
          "data": {
            "text/plain": [
              "58"
            ]
          },
          "execution_count": 36,
          "metadata": {
            "tags": []
          },
          "output_type": "execute_result"
        }
      ],
      "source": [
        "primos = [2, 3, 11, 13, 17, 5, 7] #List\n",
        "primos2 = (2, 3, 11, 13, 17, 5, 7) #tuple\n",
        "sum(primos)"
      ]
    },
    {
      "cell_type": "code",
      "execution_count": null,
      "metadata": {
        "colab": {
          "base_uri": "https://localhost:8080/"
        },
        "id": "YTU7_wiFsEBe",
        "outputId": "36e72db7-7ba9-4e56-f4f6-a4368abaecde"
      },
      "outputs": [
        {
          "name": "stdout",
          "output_type": "stream",
          "text": [
            "<class 'list'>\n",
            "<class 'tuple'>\n"
          ]
        }
      ],
      "source": [
        "print(type(primos))\n",
        "print(type(primos2))"
      ]
    },
    {
      "attachments": {},
      "cell_type": "markdown",
      "metadata": {
        "id": "tP9I6U6Xso_b"
      },
      "source": [
        "Listas podem ser modificadas"
      ]
    },
    {
      "cell_type": "code",
      "execution_count": null,
      "metadata": {
        "id": "Qq5thh7wsVMm"
      },
      "outputs": [],
      "source": [
        "primos[1] = 31"
      ]
    },
    {
      "attachments": {},
      "cell_type": "markdown",
      "metadata": {
        "id": "37nQP7F1smYc"
      },
      "source": [
        "Tuplas não podem ser modificadas"
      ]
    },
    {
      "cell_type": "code",
      "execution_count": null,
      "metadata": {
        "colab": {
          "base_uri": "https://localhost:8080/",
          "height": 166
        },
        "id": "wxOPOl7PsZye",
        "outputId": "4e625bb9-5bf8-47a6-9619-0fa192db9929"
      },
      "outputs": [
        {
          "ename": "TypeError",
          "evalue": "ignored",
          "output_type": "error",
          "traceback": [
            "\u001b[0;31m---------------------------------------------------------------------------\u001b[0m",
            "\u001b[0;31mTypeError\u001b[0m                                 Traceback (most recent call last)",
            "\u001b[0;32m<ipython-input-39-4b6e7e7e40ea>\u001b[0m in \u001b[0;36m<module>\u001b[0;34m()\u001b[0m\n\u001b[0;32m----> 1\u001b[0;31m \u001b[0mprimos2\u001b[0m\u001b[0;34m[\u001b[0m\u001b[0;36m1\u001b[0m\u001b[0;34m]\u001b[0m \u001b[0;34m=\u001b[0m \u001b[0;36m31\u001b[0m\u001b[0;34m\u001b[0m\u001b[0;34m\u001b[0m\u001b[0m\n\u001b[0m",
            "\u001b[0;31mTypeError\u001b[0m: 'tuple' object does not support item assignment"
          ]
        }
      ],
      "source": [
        "primos2[1] = 31"
      ]
    },
    {
      "attachments": {},
      "cell_type": "markdown",
      "metadata": {
        "id": "JF5hsA79ETCQ"
      },
      "source": [
        "Usamos o `min` e o `max` para obter o mínimo ou o máximo de vários argumentos. Mas também podemos passar um único argumento de lista."
      ]
    },
    {
      "cell_type": "code",
      "execution_count": null,
      "metadata": {
        "colab": {
          "base_uri": "https://localhost:8080/"
        },
        "id": "fFAuwlC3Ec2h",
        "outputId": "ebc28f70-9904-4e6f-fc5a-b443e6309ef2"
      },
      "outputs": [
        {
          "data": {
            "text/plain": [
              "17"
            ]
          },
          "execution_count": 34,
          "metadata": {
            "tags": []
          },
          "output_type": "execute_result"
        }
      ],
      "source": [
        "max(primos)"
      ]
    },
    {
      "cell_type": "code",
      "execution_count": null,
      "metadata": {
        "colab": {
          "base_uri": "https://localhost:8080/"
        },
        "id": "U4mEnX07rg98",
        "outputId": "1f565f99-42fb-4952-cbe8-a7ac3351bd29"
      },
      "outputs": [
        {
          "data": {
            "text/plain": [
              "2"
            ]
          },
          "execution_count": 35,
          "metadata": {
            "tags": []
          },
          "output_type": "execute_result"
        }
      ],
      "source": [
        "min(primos)"
      ]
    },
    {
      "attachments": {},
      "cell_type": "markdown",
      "metadata": {
        "id": "JK6cqbKfE2mx"
      },
      "source": [
        "### Métodos de lista\n",
        "`list.append` modifica uma lista adicionando um item ao final:"
      ]
    },
    {
      "cell_type": "code",
      "execution_count": null,
      "metadata": {
        "id": "lN5XBFghFEC_"
      },
      "outputs": [],
      "source": [
        "# Plutão é um planeta!\n",
        "planetas.append('Plutão')"
      ]
    },
    {
      "cell_type": "code",
      "execution_count": null,
      "metadata": {
        "colab": {
          "base_uri": "https://localhost:8080/"
        },
        "id": "LGcAT4hLs_5l",
        "outputId": "b74eaa6a-741e-4857-a289-0c7fdf57672f"
      },
      "outputs": [
        {
          "data": {
            "text/plain": [
              "['Mercurio',\n",
              " 'Venus',\n",
              " 'Terra',\n",
              " 'Marte',\n",
              " 'Jupiter',\n",
              " 'Saturno',\n",
              " 'Urano',\n",
              " 'Netuno',\n",
              " 'Plutão']"
            ]
          },
          "execution_count": 41,
          "metadata": {
            "tags": []
          },
          "output_type": "execute_result"
        }
      ],
      "source": [
        "planetas"
      ]
    },
    {
      "attachments": {},
      "cell_type": "markdown",
      "metadata": {
        "id": "pZ7UEzBgE_wt"
      },
      "source": [
        "Por que a célula acima não tem saída? Vamos verificar a documentação chamando o `help(planetas.append)`.\n",
        "\n",
        "> **À parte**: `append` é um método transportado por *todos* os objetos do tipo lista, não apenas `planetas`, então também poderíamos ter chamado `help(list.append)`. No entanto, se tentarmos chamar `help(append)`, Python reclamará que não existe nenhuma variável chamada \"append\". O nome \"append\" existe apenas dentro de listas - ele não existe como um nome autônomo como funções embutidas como `max` ou `len`."
      ]
    },
    {
      "cell_type": "code",
      "execution_count": null,
      "metadata": {
        "colab": {
          "base_uri": "https://localhost:8080/"
        },
        "id": "Q38zntGjF03N",
        "outputId": "59d93ec9-5259-435f-8c3e-15e0d3b8e078"
      },
      "outputs": [
        {
          "name": "stdout",
          "output_type": "stream",
          "text": [
            "Help on built-in function append:\n",
            "\n",
            "append(object, /) method of builtins.list instance\n",
            "    Append object to the end of the list.\n",
            "\n"
          ]
        }
      ],
      "source": [
        "help(planetas.append)"
      ]
    },
    {
      "attachments": {},
      "cell_type": "markdown",
      "metadata": {
        "id": "mLpQ9yL3GCXI"
      },
      "source": [
        "A parte `-> None` está nos dizendo que `list.append` não retorna nada. Mas se verificarmos o valor dos `planetas`, podemos ver que a chamada do método modificou o valor dos `planetas`:"
      ]
    },
    {
      "cell_type": "code",
      "execution_count": null,
      "metadata": {
        "colab": {
          "base_uri": "https://localhost:8080/"
        },
        "id": "Lwbzg-gVGOOy",
        "outputId": "2ed29920-558c-4bfe-afc8-49e4d75b98fb"
      },
      "outputs": [
        {
          "data": {
            "text/plain": [
              "['Mercurio',\n",
              " 'Venus',\n",
              " 'Terra',\n",
              " 'Marte',\n",
              " 'Jupiter',\n",
              " 'Saturno',\n",
              " 'Urano',\n",
              " 'Netuno',\n",
              " 'Plutão']"
            ]
          },
          "execution_count": 43,
          "metadata": {
            "tags": []
          },
          "output_type": "execute_result"
        }
      ],
      "source": [
        "planetas"
      ]
    },
    {
      "attachments": {},
      "cell_type": "markdown",
      "metadata": {
        "id": "w04GFXk2GRXh"
      },
      "source": [
        "`list.pop` remove e retorna o último elemento de uma lista:"
      ]
    },
    {
      "cell_type": "code",
      "execution_count": null,
      "metadata": {
        "colab": {
          "base_uri": "https://localhost:8080/",
          "height": 35
        },
        "id": "uBdZJz9bGWXT",
        "outputId": "a87282aa-9a8f-4f7c-f58b-ec55371f3825"
      },
      "outputs": [
        {
          "data": {
            "application/vnd.google.colaboratory.intrinsic+json": {
              "type": "string"
            },
            "text/plain": [
              "'Plutão'"
            ]
          },
          "execution_count": 44,
          "metadata": {
            "tags": []
          },
          "output_type": "execute_result"
        }
      ],
      "source": [
        "planetas.pop()"
      ]
    },
    {
      "cell_type": "code",
      "execution_count": null,
      "metadata": {
        "colab": {
          "base_uri": "https://localhost:8080/"
        },
        "id": "I9Zyr9QHGZsu",
        "outputId": "f6933dde-9176-4837-ada7-9242a242e36a"
      },
      "outputs": [
        {
          "data": {
            "text/plain": [
              "['Mercurio',\n",
              " 'Venus',\n",
              " 'Terra',\n",
              " 'Marte',\n",
              " 'Jupiter',\n",
              " 'Saturno',\n",
              " 'Urano',\n",
              " 'Netuno']"
            ]
          },
          "execution_count": 45,
          "metadata": {
            "tags": []
          },
          "output_type": "execute_result"
        }
      ],
      "source": [
        "planetas"
      ]
    },
    {
      "attachments": {},
      "cell_type": "markdown",
      "metadata": {
        "id": "GjQv7Mp0CV77"
      },
      "source": [
        "### Iteração com listas"
      ]
    },
    {
      "attachments": {},
      "cell_type": "markdown",
      "metadata": {
        "id": "yEPLbLzp_kPG"
      },
      "source": [
        "A lista é um dos recursos mais amados e exclusivos do Python. A maneira mais fácil de entendê-los é provavelmente olhando alguns exemplos:"
      ]
    },
    {
      "cell_type": "code",
      "execution_count": null,
      "metadata": {
        "colab": {
          "base_uri": "https://localhost:8080/"
        },
        "id": "5vp_iqKwKUQ0",
        "outputId": "2b85328d-ca99-4687-9129-4062e371b1d2"
      },
      "outputs": [
        {
          "name": "stdout",
          "output_type": "stream",
          "text": [
            "[0, 1, 4, 9, 16, 25, 36, 49, 64, 81]\n"
          ]
        }
      ],
      "source": [
        "squares = [n**2 for n in range(10)]\n",
        "print(squares)"
      ]
    },
    {
      "attachments": {},
      "cell_type": "markdown",
      "metadata": {
        "id": "K70YDbcpKWcY"
      },
      "source": [
        "Veja como faríamos a mesma coisa sem uma compreensão de lista:"
      ]
    },
    {
      "cell_type": "code",
      "execution_count": null,
      "metadata": {
        "colab": {
          "base_uri": "https://localhost:8080/"
        },
        "id": "1o8ok2V6KYA0",
        "outputId": "84a48fb1-c0e0-480c-cf52-5a7e049ed947"
      },
      "outputs": [
        {
          "data": {
            "text/plain": [
              "[0, 1, 4, 9, 16, 25, 36, 49, 64, 81]"
            ]
          },
          "execution_count": 47,
          "metadata": {
            "tags": []
          },
          "output_type": "execute_result"
        }
      ],
      "source": [
        "squares = []\n",
        "for n in range(10):\n",
        "  squares.append(n**2)\n",
        "squares"
      ]
    },
    {
      "attachments": {},
      "cell_type": "markdown",
      "metadata": {
        "id": "URx33jczK5VH"
      },
      "source": [
        "Também podemos adicionar uma condição if:"
      ]
    },
    {
      "cell_type": "code",
      "execution_count": null,
      "metadata": {
        "colab": {
          "base_uri": "https://localhost:8080/"
        },
        "id": "7zWgsTdMULjg",
        "outputId": "276e9397-aa0e-4b42-e607-52ee5fc8f564"
      },
      "outputs": [
        {
          "name": "stdout",
          "output_type": "stream",
          "text": [
            "7\n"
          ]
        }
      ],
      "source": [
        "pokemon_chock = \"Pikachu\"\n",
        "print(len(pokemon_chock))"
      ]
    },
    {
      "attachments": {},
      "cell_type": "markdown",
      "metadata": {
        "id": "6ze64u8zVTzh"
      },
      "source": [
        "Imprimir a primeira letra guardada na variável `pokemon_chock`:"
      ]
    },
    {
      "cell_type": "code",
      "execution_count": null,
      "metadata": {
        "colab": {
          "base_uri": "https://localhost:8080/",
          "height": 35
        },
        "id": "gh7WCLpTVTAg",
        "outputId": "1bb01f3a-0b74-4c9b-83a6-453e83b2a585"
      },
      "outputs": [
        {
          "data": {
            "application/vnd.google.colaboratory.intrinsic+json": {
              "type": "string"
            },
            "text/plain": [
              "'k'"
            ]
          },
          "execution_count": 8,
          "metadata": {
            "tags": []
          },
          "output_type": "execute_result"
        }
      ],
      "source": [
        "pokemon_chock[2]"
      ]
    },
    {
      "cell_type": "code",
      "execution_count": null,
      "metadata": {
        "id": "aJxkSUTtUjx9"
      },
      "outputs": [],
      "source": [
        "pokemons = ['Bulbasaur', 'Charmander', 'Squirtle', 'Caterpie', 'Pidgeotto',\n",
        "            'Pikachu', 'Kadabra', 'Magmar', 'abra']"
      ]
    },
    {
      "cell_type": "code",
      "execution_count": null,
      "metadata": {
        "colab": {
          "base_uri": "https://localhost:8080/"
        },
        "id": "oIu4Lg5TUyw-",
        "outputId": "7ee47006-a110-4b0b-a119-370376f39b8c"
      },
      "outputs": [
        {
          "name": "stdout",
          "output_type": "stream",
          "text": [
            "9\n"
          ]
        }
      ],
      "source": [
        "print(len(pokemons))"
      ]
    },
    {
      "cell_type": "code",
      "execution_count": null,
      "metadata": {
        "colab": {
          "base_uri": "https://localhost:8080/"
        },
        "id": "f1Mwjz-4K6Ro",
        "outputId": "194e905f-8043-454d-9d83-7c3631b6057f"
      },
      "outputs": [
        {
          "data": {
            "text/plain": [
              "['Abra']"
            ]
          },
          "execution_count": 12,
          "metadata": {
            "tags": []
          },
          "output_type": "execute_result"
        }
      ],
      "source": [
        "short_pokemons = [pokemon for pokemon in pokemons if len(pokemon) < 6]\n",
        "short_pokemons"
      ]
    },
    {
      "attachments": {},
      "cell_type": "markdown",
      "metadata": {
        "id": "LE6TMtimXtvV"
      },
      "source": [
        "Pelo meio tradicional:"
      ]
    },
    {
      "cell_type": "code",
      "execution_count": null,
      "metadata": {
        "id": "nW7Uw8OcMA_n"
      },
      "outputs": [],
      "source": [
        "pokemons = ['Bulbasaur', 'Charmander', 'Squirtle', 'Caterpie', 'Pidgeotto',\n",
        "            'Pikachu', 'Kadabra', 'Magmar', 'abra']"
      ]
    },
    {
      "cell_type": "code",
      "execution_count": null,
      "metadata": {
        "colab": {
          "base_uri": "https://localhost:8080/"
        },
        "id": "fByDhVRuXtX2",
        "outputId": "65bd3498-93c4-4310-d588-ec6595f985dd"
      },
      "outputs": [
        {
          "name": "stdout",
          "output_type": "stream",
          "text": [
            "['Magmar', 'abra']\n"
          ]
        }
      ],
      "source": [
        "short_pokemons = []\n",
        "\n",
        "for pokemon in pokemons:\n",
        "  if len(pokemon) <= 6:\n",
        "    short_pokemons.append(pokemon)\n",
        "\n",
        "print(short_pokemons)"
      ]
    },
    {
      "attachments": {},
      "cell_type": "markdown",
      "metadata": {
        "id": "iWp615e7LiJ6"
      },
      "source": [
        "Aqui está um exemplo de filtragem com uma condição `if` e aplicação de alguma transformação à variável de loop:"
      ]
    },
    {
      "cell_type": "code",
      "execution_count": null,
      "metadata": {
        "colab": {
          "base_uri": "https://localhost:8080/"
        },
        "id": "UFxqBT__LlfU",
        "outputId": "7dae3137-8cb9-402e-da20-ee4167b23063"
      },
      "outputs": [
        {
          "data": {
            "text/plain": [
              "['ABRA!']"
            ]
          },
          "execution_count": 22,
          "metadata": {
            "tags": []
          },
          "output_type": "execute_result"
        }
      ],
      "source": [
        "short_pokemons = [pokemon.upper() + \"!\" for pokemon in pokemons if len(pokemon) < 6]\n",
        "short_pokemons"
      ]
    },
    {
      "attachments": {},
      "cell_type": "markdown",
      "metadata": {
        "id": "b_WTD0gFL0TH"
      },
      "source": [
        "As pessoas geralmente escrevem em uma única linha, mas você pode achar a estrutura mais clara quando está dividida em 3 linhas:"
      ]
    },
    {
      "cell_type": "code",
      "execution_count": null,
      "metadata": {
        "colab": {
          "base_uri": "https://localhost:8080/"
        },
        "id": "PzUrXGptL1F8",
        "outputId": "b8e31cb4-f87d-4f61-a085-98611f988078"
      },
      "outputs": [
        {
          "data": {
            "text/plain": [
              "['ABRA!']"
            ]
          },
          "execution_count": 17,
          "metadata": {
            "tags": []
          },
          "output_type": "execute_result"
        }
      ],
      "source": [
        "[\n",
        " pokemon.upper() + \"!\"\n",
        " for pokemon in pokemons\n",
        " if len(pokemon) < 6\n",
        "]"
      ]
    },
    {
      "attachments": {},
      "cell_type": "markdown",
      "metadata": {
        "id": "w4JFuzXrMGva"
      },
      "source": [
        "A expressão à esquerda não precisa envolver tecnicamente a variável de loop (embora seja bastante incomum que isso não aconteça). O que você acha que a expressão abaixo avalia? Pressione o botão 'output' para verificar."
      ]
    },
    {
      "cell_type": "code",
      "execution_count": null,
      "metadata": {
        "colab": {
          "base_uri": "https://localhost:8080/"
        },
        "id": "bJ-tRnXYMNze",
        "outputId": "30b115be-1a0b-46ae-9822-e9d0a6064080"
      },
      "outputs": [
        {
          "data": {
            "text/plain": [
              "['Olá', 'Olá', 'Olá', 'Olá', 'Olá', 'Olá', 'Olá', 'Olá', 'Olá']"
            ]
          },
          "execution_count": 23,
          "metadata": {
            "tags": []
          },
          "output_type": "execute_result"
        }
      ],
      "source": [
        "[\"Olá\" for pokemon in pokemons]"
      ]
    },
    {
      "attachments": {},
      "cell_type": "markdown",
      "metadata": {
        "id": "wpRt_2fSMW7j"
      },
      "source": [
        "As listas podem ser combinadas com funções como `min`, `max` e `sum` podendo levar a soluções impressionantes de uma linha para problemas que, de outra forma, exigiriam várias linhas de código."
      ]
    },
    {
      "attachments": {},
      "cell_type": "markdown",
      "metadata": {
        "id": "bB14vSRxMntc"
      },
      "source": [
        "Mais alguns exemplos:"
      ]
    },
    {
      "cell_type": "code",
      "execution_count": null,
      "metadata": {
        "id": "E9iNXUgHOEBt"
      },
      "outputs": [],
      "source": [
        "lista = [0, True, 4, \"5\", [0, \"ola\", \"Mundo\"], 78.9, 89+5.1j]"
      ]
    },
    {
      "cell_type": "code",
      "execution_count": null,
      "metadata": {
        "colab": {
          "base_uri": "https://localhost:8080/",
          "height": 35
        },
        "id": "JT_mvQMqfCuG",
        "outputId": "028a4e42-1822-4d7d-8432-418827c43a72"
      },
      "outputs": [
        {
          "data": {
            "application/vnd.google.colaboratory.intrinsic+json": {
              "type": "string"
            },
            "text/plain": [
              "'ola'"
            ]
          },
          "execution_count": 32,
          "metadata": {
            "tags": []
          },
          "output_type": "execute_result"
        }
      ],
      "source": [
        "# acessar um elemento da lista\n",
        "lista[4][1]  # em uma lista com N elementos os indices vão de 0 até N-1"
      ]
    },
    {
      "cell_type": "code",
      "execution_count": null,
      "metadata": {
        "colab": {
          "base_uri": "https://localhost:8080/"
        },
        "id": "Di_85DZgN2d_",
        "outputId": "c182b263-a97c-416a-81ab-7a24e4ae6913"
      },
      "outputs": [
        {
          "data": {
            "text/plain": [
              "7"
            ]
          },
          "execution_count": 35,
          "metadata": {
            "tags": []
          },
          "output_type": "execute_result"
        }
      ],
      "source": [
        "len(lista) # devolve o numero de elementos em uma coleção"
      ]
    },
    {
      "cell_type": "code",
      "execution_count": null,
      "metadata": {
        "colab": {
          "base_uri": "https://localhost:8080/"
        },
        "id": "bKMMhlezgVy1",
        "outputId": "e937e6da-3401-4b09-b123-883b97206ab6"
      },
      "outputs": [
        {
          "name": "stdout",
          "output_type": "stream",
          "text": [
            "[0, True, 4, '5', [500, 'ola', 'Mundo'], 78.9, (89+5.1j)]\n"
          ]
        }
      ],
      "source": [
        "lista[4][0] = 500 \n",
        "print(lista)"
      ]
    },
    {
      "cell_type": "code",
      "execution_count": null,
      "metadata": {
        "colab": {
          "base_uri": "https://localhost:8080/"
        },
        "id": "1ndUtTowh2mh",
        "outputId": "96f5e6fa-2168-4520-d6f7-5b2923df4332"
      },
      "outputs": [
        {
          "data": {
            "text/plain": [
              "[0, True, 4, '5', [500, 'ola', 'Mundo', 'dentro da lista'], 78.9, (89+5.1j)]"
            ]
          },
          "execution_count": 37,
          "metadata": {
            "tags": []
          },
          "output_type": "execute_result"
        }
      ],
      "source": [
        "lista[4].append(\"dentro da lista\")\n",
        "lista"
      ]
    },
    {
      "cell_type": "code",
      "execution_count": null,
      "metadata": {
        "id": "r5CR8Nf8jZ1T"
      },
      "outputs": [],
      "source": [
        "lista.insert(4, 12)"
      ]
    },
    {
      "cell_type": "code",
      "execution_count": null,
      "metadata": {
        "colab": {
          "base_uri": "https://localhost:8080/"
        },
        "id": "aCnSiTMXaohy",
        "outputId": "c544daab-6e35-48e2-8969-f5731c362bb9"
      },
      "outputs": [
        {
          "data": {
            "text/plain": [
              "12"
            ]
          },
          "execution_count": 41,
          "metadata": {
            "tags": []
          },
          "output_type": "execute_result"
        }
      ],
      "source": [
        "lista[4]"
      ]
    },
    {
      "cell_type": "code",
      "execution_count": null,
      "metadata": {
        "colab": {
          "base_uri": "https://localhost:8080/"
        },
        "id": "H0hTNmjBjO_V",
        "outputId": "d18f4de8-9ce5-4c24-d1d9-7395004e80ea"
      },
      "outputs": [
        {
          "name": "stdout",
          "output_type": "stream",
          "text": [
            "[0, True, 4, '5', 12, [500, 'ola', 'Mundo', 'dentro da lista'], 78.9, (89+5.1j)]\n"
          ]
        }
      ],
      "source": [
        "print(lista)"
      ]
    },
    {
      "cell_type": "code",
      "execution_count": null,
      "metadata": {
        "colab": {
          "base_uri": "https://localhost:8080/"
        },
        "id": "h__sJQrikHRK",
        "outputId": "76dde6c1-f3c7-4235-d1de-5c094c3494c5"
      },
      "outputs": [
        {
          "name": "stdout",
          "output_type": "stream",
          "text": [
            "[0, True, '5', 12, [500, 'ola', 'Mundo', 'dentro da lista'], 78.9, (89+5.1j)]\n",
            "4\n"
          ]
        }
      ],
      "source": [
        "deletado = lista.pop(2)\n",
        "print(lista)\n",
        "print(deletado)"
      ]
    },
    {
      "cell_type": "code",
      "execution_count": null,
      "metadata": {
        "colab": {
          "base_uri": "https://localhost:8080/"
        },
        "id": "mEE7KfNUk0p-",
        "outputId": "bf1e0826-7c4a-406e-ffdb-da45e9bc18a8"
      },
      "outputs": [
        {
          "name": "stdout",
          "output_type": "stream",
          "text": [
            "[]\n"
          ]
        }
      ],
      "source": [
        "lista2 = []\n",
        "print(lista2)"
      ]
    },
    {
      "cell_type": "code",
      "execution_count": null,
      "metadata": {
        "colab": {
          "base_uri": "https://localhost:8080/"
        },
        "id": "YgN8i0nqk69w",
        "outputId": "03949d34-acd5-43cc-a081-5e58da327c5d"
      },
      "outputs": [
        {
          "name": "stdout",
          "output_type": "stream",
          "text": [
            "['hello']\n"
          ]
        }
      ],
      "source": [
        "lista2.append(\"hello\")\n",
        "print(lista2)"
      ]
    },
    {
      "cell_type": "code",
      "execution_count": null,
      "metadata": {
        "colab": {
          "base_uri": "https://localhost:8080/"
        },
        "id": "pbMhevG7p4sj",
        "outputId": "31e7e69a-ccf6-4c07-dcdd-4561ffbb7e8a"
      },
      "outputs": [
        {
          "data": {
            "text/plain": [
              "7"
            ]
          },
          "execution_count": 46,
          "metadata": {
            "tags": []
          },
          "output_type": "execute_result"
        }
      ],
      "source": [
        "len(lista)"
      ]
    },
    {
      "attachments": {},
      "cell_type": "markdown",
      "metadata": {
        "id": "7yV_xw_zce0Q"
      },
      "source": [
        "Exemplo de matriz:"
      ]
    },
    {
      "cell_type": "code",
      "execution_count": null,
      "metadata": {
        "colab": {
          "base_uri": "https://localhost:8080/"
        },
        "id": "iNln317KceFU",
        "outputId": "2df35bb6-8c92-43c6-931d-090c4695bbb2"
      },
      "outputs": [
        {
          "data": {
            "text/plain": [
              "[[1, 2, 3, 4], [1, 2, 3, 4], [1, 2, 3, 4], [1, 2, 3, 4]]"
            ]
          },
          "execution_count": 47,
          "metadata": {
            "tags": []
          },
          "output_type": "execute_result"
        }
      ],
      "source": [
        "matriz = [[1,2,3,4],[1,2,3,4],[1,2,3,4],[1,2,3,4]]\n",
        "matriz"
      ]
    },
    {
      "cell_type": "code",
      "execution_count": null,
      "metadata": {
        "id": "7mi09VtJq9Cy"
      },
      "outputs": [],
      "source": [
        "## Modifique o algoritmo do while que calculava a média dos números\n",
        "## para encontrar a mediana dos valores\n",
        "## dica: Use listas par guardar todos os valores informados\n",
        "\n",
        "# como calcular a mediana\n",
        "# ordenamos os valores do menor para o maior - sorted()\n",
        "# se tem núúmeo impar de valores a mediana é o valor do meio\n",
        "#[5,1,2] -> [1,2,5] -> 2\n",
        "# Se tem um numero par de valores, a mediana é a media dos 2 centrais\n",
        "#[5,1,4,2] -> [1,2,4,5]- > 3 = (2+4)/2"
      ]
    },
    {
      "cell_type": "code",
      "execution_count": null,
      "metadata": {
        "colab": {
          "base_uri": "https://localhost:8080/"
        },
        "id": "SRSB8VpJw6VI",
        "outputId": "753c571d-9fa3-4fed-dcfb-cf64a0c2cd1d"
      },
      "outputs": [
        {
          "name": "stdout",
          "output_type": "stream",
          "text": [
            "Coloque aqui um número: 1\n",
            "Coloque aqui um número: 9\n",
            "Coloque aqui um número: 3\n",
            "Coloque aqui um número: 5\n",
            "Coloque aqui um número: -1\n",
            "A lista digitada pelo usuário e ordenada é [1, 3, 5, 9]\n",
            "A mediana é 4.0\n"
          ]
        }
      ],
      "source": [
        "number = int(input(\"Coloque aqui um número: \"))\n",
        "lista = []\n",
        "while number != -1:\n",
        "  lista.append(number)\n",
        "  number = int(input(\"Coloque aqui um número: \"))\n",
        "\n",
        "# [5,1,4,2,8,3,1,2,3,4,9]\n",
        "# [1,1,2,2,3,3,4,4,5,8,9]\n",
        "listaOrdenada = sorted(lista)\n",
        "# Exemplo: 4\n",
        "tamanhoLista = len(listaOrdenada)\n",
        "if tamanhoLista % 2 == 0:\n",
        "    metade = tamanhoLista//2\n",
        "    metade2 = metade-1\n",
        "    mediana = (listaOrdenada[metade] + listaOrdenada[metade2]) / 2\n",
        "else:\n",
        "    metade = tamanhoLista // 2\n",
        "    mediana = listaOrdenada[metade]\n",
        "\n",
        "print(f\"A lista digitada pelo usuário e ordenada é {listaOrdenada}\")\n",
        "print(f\"A mediana é {mediana}\")"
      ]
    },
    {
      "cell_type": "code",
      "execution_count": null,
      "metadata": {
        "colab": {
          "base_uri": "https://localhost:8080/"
        },
        "id": "7_8c15fmOtWv",
        "outputId": "7fe84114-635a-47bc-df3a-21f371b82d6b"
      },
      "outputs": [
        {
          "data": {
            "text/plain": [
              "21"
            ]
          },
          "execution_count": 8,
          "metadata": {
            "tags": []
          },
          "output_type": "execute_result"
        }
      ],
      "source": [
        "def sum_element(lista):\n",
        "  soma = 0\n",
        "  for n in lista:\n",
        "     soma = soma + n\n",
        "     \n",
        "  return soma\n",
        "\n",
        "sum_element([1,2,3,4,8,3])"
      ]
    },
    {
      "cell_type": "code",
      "execution_count": null,
      "metadata": {
        "colab": {
          "base_uri": "https://localhost:8080/"
        },
        "id": "l26yfS3dQL_U",
        "outputId": "722a92cd-f958-433e-d452-333a9feb23af"
      },
      "outputs": [
        {
          "data": {
            "text/plain": [
              "1"
            ]
          },
          "execution_count": 10,
          "metadata": {
            "tags": []
          },
          "output_type": "execute_result"
        }
      ],
      "source": [
        "abs(-1)"
      ]
    },
    {
      "cell_type": "code",
      "execution_count": null,
      "metadata": {
        "colab": {
          "base_uri": "https://localhost:8080/"
        },
        "id": "OZ0p1DaJ1vT0",
        "outputId": "eb147268-364c-4c76-bde9-2e3ae95f6efa"
      },
      "outputs": [
        {
          "data": {
            "text/plain": [
              "5"
            ]
          },
          "execution_count": 4,
          "metadata": {
            "tags": []
          },
          "output_type": "execute_result"
        }
      ],
      "source": [
        "11 // 2"
      ]
    },
    {
      "attachments": {},
      "cell_type": "markdown",
      "metadata": {
        "id": "PRGH9ZoCo5tu"
      },
      "source": [
        "### Aula 27/07/2021\n",
        "\n",
        "- Listas\n",
        " - Pertencimento (`in`)\n",
        " - Clonando listas\n",
        " - Multiplicação de listas\n",
        " - Concatenação de listas (`+`)\n",
        " - Outra forma de apagar itens da lista (`del`)\n"
      ]
    },
    {
      "cell_type": "code",
      "execution_count": null,
      "metadata": {
        "id": "ZGxpNeThE9hr"
      },
      "outputs": [],
      "source": [
        "pokemons = ['Bulbasaur', 'Charmander', 'Squirtle', 'Caterpie', 'Pidgeotto',\n",
        "            'Pikachu', 'Kadabra', 'Magmar', 'abra']"
      ]
    },
    {
      "cell_type": "code",
      "execution_count": null,
      "metadata": {
        "colab": {
          "base_uri": "https://localhost:8080/"
        },
        "id": "SOx0QlX9FOAK",
        "outputId": "0eaf7edd-368c-42db-dfa2-2f9054001175"
      },
      "outputs": [
        {
          "data": {
            "text/plain": [
              "True"
            ]
          },
          "execution_count": 3,
          "metadata": {
            "tags": []
          },
          "output_type": "execute_result"
        }
      ],
      "source": [
        "\"Pikachu\" in pokemons"
      ]
    },
    {
      "cell_type": "code",
      "execution_count": null,
      "metadata": {
        "colab": {
          "base_uri": "https://localhost:8080/"
        },
        "id": "RkT_KQxHFalv",
        "outputId": "91dfd8c2-7f44-4a6e-81d6-a44a75b2bf35"
      },
      "outputs": [
        {
          "name": "stdout",
          "output_type": "stream",
          "text": [
            "Abra, eu escolho você!\n"
          ]
        }
      ],
      "source": [
        "if \"abra\" in pokemons:\n",
        "  print(\"Abra, eu escolho você!\")\n",
        "else:\n",
        "  print(\"Eu não tenho o Abra\")"
      ]
    },
    {
      "cell_type": "code",
      "execution_count": null,
      "metadata": {
        "colab": {
          "base_uri": "https://localhost:8080/"
        },
        "id": "DNSCbEV6FwVI",
        "outputId": "568fcffd-8a8a-4ad3-d89e-18f86d83ec3a"
      },
      "outputs": [
        {
          "data": {
            "text/plain": [
              "['Bulbasaur',\n",
              " 'Charmander',\n",
              " 'Squirtle',\n",
              " 'Caterpie',\n",
              " 'Pidgeotto',\n",
              " 'Pikachu',\n",
              " 'Kadabra',\n",
              " 'Magmar',\n",
              " 'abra']"
            ]
          },
          "execution_count": 6,
          "metadata": {
            "tags": []
          },
          "output_type": "execute_result"
        }
      ],
      "source": [
        "pokemons2 = pokemons\n",
        "pokemons2"
      ]
    },
    {
      "cell_type": "code",
      "execution_count": null,
      "metadata": {
        "id": "Q2LhsbgeF7t3"
      },
      "outputs": [],
      "source": [
        "pokemons2.append(\"Kadabra\")"
      ]
    },
    {
      "cell_type": "code",
      "execution_count": null,
      "metadata": {
        "colab": {
          "base_uri": "https://localhost:8080/"
        },
        "id": "xG0ockDWGBAe",
        "outputId": "49c3e208-e020-4a08-c646-2fcc42b0fe7b"
      },
      "outputs": [
        {
          "data": {
            "text/plain": [
              "['Bulbasaur',\n",
              " 'Charmander',\n",
              " 'Squirtle',\n",
              " 'Caterpie',\n",
              " 'Pidgeotto',\n",
              " 'Pikachu',\n",
              " 'Kadabra',\n",
              " 'Magmar',\n",
              " 'abra',\n",
              " 'Kadabra']"
            ]
          },
          "execution_count": 8,
          "metadata": {
            "tags": []
          },
          "output_type": "execute_result"
        }
      ],
      "source": [
        "pokemons2"
      ]
    },
    {
      "cell_type": "code",
      "execution_count": null,
      "metadata": {
        "colab": {
          "base_uri": "https://localhost:8080/"
        },
        "id": "uUCPqAa2GHqk",
        "outputId": "6590013e-7f34-4ccd-f953-d52c2e0ad6dd"
      },
      "outputs": [
        {
          "data": {
            "text/plain": [
              "['Bulbasaur',\n",
              " 'Charmander',\n",
              " 'Squirtle',\n",
              " 'Caterpie',\n",
              " 'Pidgeotto',\n",
              " 'Pikachu',\n",
              " 'Kadabra',\n",
              " 'Magmar',\n",
              " 'abra',\n",
              " 'Kadabra']"
            ]
          },
          "execution_count": 9,
          "metadata": {
            "tags": []
          },
          "output_type": "execute_result"
        }
      ],
      "source": [
        "pokemons"
      ]
    },
    {
      "attachments": {},
      "cell_type": "markdown",
      "metadata": {
        "id": "3BB_wzehGtNB"
      },
      "source": [
        "O exemplo acima cria uma referência entre as duas listas, de forma que qualquer manipulação em uma, afetará a outra."
      ]
    },
    {
      "attachments": {},
      "cell_type": "markdown",
      "metadata": {
        "id": "D2-BD7iMG6z3"
      },
      "source": [
        "Para não criar uma referência, podemos fazer assim:"
      ]
    },
    {
      "cell_type": "code",
      "execution_count": null,
      "metadata": {
        "id": "VhBhZ97AG_C6"
      },
      "outputs": [],
      "source": [
        "pokemons2 = pokemons[:]"
      ]
    },
    {
      "cell_type": "code",
      "execution_count": null,
      "metadata": {
        "id": "BvarmhqqHGwB"
      },
      "outputs": [],
      "source": [
        "pokemons2.append(\"caterpie\")"
      ]
    },
    {
      "cell_type": "code",
      "execution_count": null,
      "metadata": {
        "colab": {
          "base_uri": "https://localhost:8080/"
        },
        "id": "WleiFMZAHQjQ",
        "outputId": "3836b85f-d362-4dca-e0b2-637b8d647fad"
      },
      "outputs": [
        {
          "data": {
            "text/plain": [
              "['Bulbasaur',\n",
              " 'Charmander',\n",
              " 'Squirtle',\n",
              " 'Caterpie',\n",
              " 'Pidgeotto',\n",
              " 'Pikachu',\n",
              " 'Kadabra',\n",
              " 'Magmar',\n",
              " 'abra',\n",
              " 'Kadabra',\n",
              " 'caterpie']"
            ]
          },
          "execution_count": 14,
          "metadata": {
            "tags": []
          },
          "output_type": "execute_result"
        }
      ],
      "source": [
        "pokemons2"
      ]
    },
    {
      "cell_type": "code",
      "execution_count": null,
      "metadata": {
        "id": "YL3nktyPHSnb"
      },
      "outputs": [],
      "source": [
        "pokemons.append(\"Mewtwo\")"
      ]
    },
    {
      "cell_type": "code",
      "execution_count": null,
      "metadata": {
        "colab": {
          "base_uri": "https://localhost:8080/"
        },
        "id": "N8oohCXKHwqW",
        "outputId": "89c2dec7-12e9-469e-a0da-f9b76fcce785"
      },
      "outputs": [
        {
          "name": "stdout",
          "output_type": "stream",
          "text": [
            "['Bulbasaur', 'Charmander', 'Squirtle', 'Caterpie', 'Pidgeotto', 'Pikachu', 'Kadabra', 'Magmar', 'abra', 'Kadabra', 'Mewtwo']\n",
            "['Bulbasaur', 'Charmander', 'Squirtle', 'Caterpie', 'Pidgeotto', 'Pikachu', 'Kadabra', 'Magmar', 'abra', 'Kadabra', 'caterpie']\n"
          ]
        }
      ],
      "source": [
        "print(pokemons)\n",
        "print(pokemons2)"
      ]
    },
    {
      "cell_type": "code",
      "execution_count": null,
      "metadata": {
        "colab": {
          "base_uri": "https://localhost:8080/",
          "height": 35
        },
        "id": "TilOO_neJrZM",
        "outputId": "30a6e892-4a75-4190-9cf8-5ec70cb01512"
      },
      "outputs": [
        {
          "data": {
            "application/vnd.google.colaboratory.intrinsic+json": {
              "type": "string"
            },
            "text/plain": [
              "'Pikachu'"
            ]
          },
          "execution_count": 33,
          "metadata": {
            "tags": []
          },
          "output_type": "execute_result"
        }
      ],
      "source": [
        "pokemons2[5]"
      ]
    },
    {
      "attachments": {},
      "cell_type": "markdown",
      "metadata": {
        "id": "4FQEz9y8IB40"
      },
      "source": [
        "### Multiplica de listas"
      ]
    },
    {
      "cell_type": "code",
      "execution_count": null,
      "metadata": {
        "id": "U2kd_XRTIEgx"
      },
      "outputs": [],
      "source": [
        "mult_pokemons = pokemons * 3"
      ]
    },
    {
      "cell_type": "code",
      "execution_count": null,
      "metadata": {
        "colab": {
          "base_uri": "https://localhost:8080/",
          "height": 35
        },
        "id": "l_Hoo0FxIrG0",
        "outputId": "3960d49e-1da1-4916-d40b-4c89e95181b8"
      },
      "outputs": [
        {
          "data": {
            "application/vnd.google.colaboratory.intrinsic+json": {
              "type": "string"
            },
            "text/plain": [
              "'Squirtle'"
            ]
          },
          "execution_count": 24,
          "metadata": {
            "tags": []
          },
          "output_type": "execute_result"
        }
      ],
      "source": [
        "mult_pokemons[13]"
      ]
    },
    {
      "attachments": {},
      "cell_type": "markdown",
      "metadata": {
        "id": "AnWn9FA8IfxK"
      },
      "source": [
        "Lista de listas multiplicadas"
      ]
    },
    {
      "cell_type": "code",
      "execution_count": null,
      "metadata": {
        "id": "IKSSnC81IkML"
      },
      "outputs": [],
      "source": [
        "matriz_pokemons = [pokemons] * 3"
      ]
    },
    {
      "cell_type": "code",
      "execution_count": null,
      "metadata": {
        "colab": {
          "base_uri": "https://localhost:8080/"
        },
        "id": "xKuxjxmaJSi2",
        "outputId": "85298b73-4d35-4fdf-f0c8-cb207d74a302"
      },
      "outputs": [
        {
          "data": {
            "text/plain": [
              "[['Bulbasaur',\n",
              "  'Charmander',\n",
              "  'Squirtle',\n",
              "  'Caterpie',\n",
              "  'Pidgeotto',\n",
              "  'Pikachu',\n",
              "  'Kadabra',\n",
              "  'Magmar',\n",
              "  'abra',\n",
              "  'Kadabra',\n",
              "  'Mewtwo'],\n",
              " ['Bulbasaur',\n",
              "  'Charmander',\n",
              "  'Squirtle',\n",
              "  'Caterpie',\n",
              "  'Pidgeotto',\n",
              "  'Pikachu',\n",
              "  'Kadabra',\n",
              "  'Magmar',\n",
              "  'abra',\n",
              "  'Kadabra',\n",
              "  'Mewtwo'],\n",
              " ['Bulbasaur',\n",
              "  'Charmander',\n",
              "  'Squirtle',\n",
              "  'Caterpie',\n",
              "  'Pidgeotto',\n",
              "  'Pikachu',\n",
              "  'Kadabra',\n",
              "  'Magmar',\n",
              "  'abra',\n",
              "  'Kadabra',\n",
              "  'Mewtwo']]"
            ]
          },
          "execution_count": 32,
          "metadata": {
            "tags": []
          },
          "output_type": "execute_result"
        }
      ],
      "source": [
        "matriz_pokemons"
      ]
    },
    {
      "cell_type": "code",
      "execution_count": null,
      "metadata": {
        "colab": {
          "base_uri": "https://localhost:8080/",
          "height": 35
        },
        "id": "RGxi-cnTJEFj",
        "outputId": "ecdb2799-dc26-46d2-dcef-f90809ffb536"
      },
      "outputs": [
        {
          "data": {
            "application/vnd.google.colaboratory.intrinsic+json": {
              "type": "string"
            },
            "text/plain": [
              "'Pidgeotto'"
            ]
          },
          "execution_count": 38,
          "metadata": {
            "tags": []
          },
          "output_type": "execute_result"
        }
      ],
      "source": [
        "matriz_pokemons[0][4]"
      ]
    },
    {
      "cell_type": "code",
      "execution_count": null,
      "metadata": {
        "id": "27mQyJt_J5s8"
      },
      "outputs": [],
      "source": [
        "lista = [\n",
        " [\n",
        "  ['Bulbasaur', 'Charmander'],\n",
        "  'Bulbasaur', 'Charmander', 'Squirtle', 'Caterpie', 'Pidgeotto', 'Pikachu', 'Kadabra',\n",
        "  'Magmar', 'abra', 'Kadabra', 'Mewtwo'],\n",
        " ['Bulbasaur', 'Charmander', 'Squirtle', 'Caterpie', 'Pidgeotto', 'Pikachu', 'Kadabra',\n",
        "  'Magmar', 'abra', 'Kadabra', 'Mewtwo'],\n",
        " ['Bulbasaur', 'Charmander', 'Squirtle', 'Caterpie', 'Pidgeotto', 'Pikachu', 'Kadabra',\n",
        "  'Magmar', 'abra', 'Kadabra', 'Mewtwo'],\n",
        " ]"
      ]
    },
    {
      "cell_type": "code",
      "execution_count": null,
      "metadata": {
        "colab": {
          "base_uri": "https://localhost:8080/",
          "height": 35
        },
        "id": "ntCDrd2hK2zD",
        "outputId": "e3d788d3-ccb6-48cf-8e47-7c323e7ff3c5"
      },
      "outputs": [
        {
          "data": {
            "application/vnd.google.colaboratory.intrinsic+json": {
              "type": "string"
            },
            "text/plain": [
              "'Charmander'"
            ]
          },
          "execution_count": 39,
          "metadata": {
            "tags": []
          },
          "output_type": "execute_result"
        }
      ],
      "source": [
        "lista[0][0][1]"
      ]
    },
    {
      "cell_type": "code",
      "execution_count": null,
      "metadata": {
        "colab": {
          "base_uri": "https://localhost:8080/"
        },
        "id": "6Y8YfzSDLKEO",
        "outputId": "b751fdd3-11d3-4cd9-ba69-ec0e9e649c39"
      },
      "outputs": [
        {
          "name": "stdout",
          "output_type": "stream",
          "text": [
            "Charmander, eu escolho você!\n"
          ]
        }
      ],
      "source": [
        "if \"Charmander\" in lista[0]:\n",
        "  print(\"Charmander, eu escolho você!\")"
      ]
    },
    {
      "attachments": {},
      "cell_type": "markdown",
      "metadata": {
        "id": "WsiWWixKLiNo"
      },
      "source": [
        "### Concatenação de listas"
      ]
    },
    {
      "cell_type": "code",
      "execution_count": null,
      "metadata": {
        "id": "t6dMHQmFLkkZ"
      },
      "outputs": [],
      "source": [
        "pokedex1 = ['Bulbasaur', 'Charmander', 'Squirtle', 'Caterpie']\n",
        "pokedex2 = ['Pidgeotto', 'Pikachu', 'Kadabra', 'Magmar', 'abra']"
      ]
    },
    {
      "cell_type": "code",
      "execution_count": null,
      "metadata": {
        "colab": {
          "base_uri": "https://localhost:8080/"
        },
        "id": "we7AHPEiLwjW",
        "outputId": "8acfaa52-3e6d-425b-b46d-ecd98a51981b"
      },
      "outputs": [
        {
          "name": "stdout",
          "output_type": "stream",
          "text": [
            "['Bulbasaur', 'Charmander', 'Squirtle', 'Caterpie']\n",
            "['Pidgeotto', 'Pikachu', 'Kadabra', 'Magmar', 'abra']\n"
          ]
        }
      ],
      "source": [
        "print(pokedex1)\n",
        "print(pokedex2)"
      ]
    },
    {
      "cell_type": "code",
      "execution_count": null,
      "metadata": {
        "colab": {
          "base_uri": "https://localhost:8080/"
        },
        "id": "a-RIJEnKL3md",
        "outputId": "3a10fef1-b6ca-428b-8578-5ab283d20740"
      },
      "outputs": [
        {
          "data": {
            "text/plain": [
              "['Bulbasaur',\n",
              " 'Charmander',\n",
              " 'Squirtle',\n",
              " 'Caterpie',\n",
              " 'Pidgeotto',\n",
              " 'Pikachu',\n",
              " 'Kadabra',\n",
              " 'Magmar',\n",
              " 'abra']"
            ]
          },
          "execution_count": 45,
          "metadata": {
            "tags": []
          },
          "output_type": "execute_result"
        }
      ],
      "source": [
        "pokedex1 + pokedex2"
      ]
    },
    {
      "cell_type": "code",
      "execution_count": null,
      "metadata": {
        "id": "6ZyHEMAdMKJ3"
      },
      "outputs": [],
      "source": [
        "pokemons = pokedex1 + pokedex2"
      ]
    },
    {
      "cell_type": "code",
      "execution_count": null,
      "metadata": {
        "colab": {
          "base_uri": "https://localhost:8080/"
        },
        "id": "UCSaTYsSMNqo",
        "outputId": "276cca9b-efdf-47ee-a7e1-fa6454fc12b8"
      },
      "outputs": [
        {
          "data": {
            "text/plain": [
              "['Bulbasaur',\n",
              " 'Charmander',\n",
              " 'Squirtle',\n",
              " 'Caterpie',\n",
              " 'Pidgeotto',\n",
              " 'Pikachu',\n",
              " 'Kadabra',\n",
              " 'Magmar',\n",
              " 'abra']"
            ]
          },
          "execution_count": 47,
          "metadata": {
            "tags": []
          },
          "output_type": "execute_result"
        }
      ],
      "source": [
        "pokemons"
      ]
    },
    {
      "cell_type": "code",
      "execution_count": null,
      "metadata": {
        "id": "ykN4Zu5yMRN7"
      },
      "outputs": [],
      "source": [
        "pokedex1[1] = \"Charizard\""
      ]
    },
    {
      "cell_type": "code",
      "execution_count": null,
      "metadata": {
        "colab": {
          "base_uri": "https://localhost:8080/"
        },
        "id": "UjjSuonmMW-F",
        "outputId": "4c70ce37-8612-4600-a126-1db333178c08"
      },
      "outputs": [
        {
          "data": {
            "text/plain": [
              "['Bulbasaur', 'Charizard', 'Squirtle', 'Caterpie']"
            ]
          },
          "execution_count": 49,
          "metadata": {
            "tags": []
          },
          "output_type": "execute_result"
        }
      ],
      "source": [
        "pokedex1"
      ]
    },
    {
      "cell_type": "code",
      "execution_count": null,
      "metadata": {
        "colab": {
          "base_uri": "https://localhost:8080/"
        },
        "id": "BnE9fo0YMcnC",
        "outputId": "ef645277-c0da-4bd3-cecf-20dea32301bc"
      },
      "outputs": [
        {
          "data": {
            "text/plain": [
              "['Bulbasaur',\n",
              " 'Charmander',\n",
              " 'Squirtle',\n",
              " 'Caterpie',\n",
              " 'Pidgeotto',\n",
              " 'Pikachu',\n",
              " 'Kadabra',\n",
              " 'Magmar',\n",
              " 'abra']"
            ]
          },
          "execution_count": 50,
          "metadata": {
            "tags": []
          },
          "output_type": "execute_result"
        }
      ],
      "source": [
        "pokemons"
      ]
    },
    {
      "cell_type": "code",
      "execution_count": null,
      "metadata": {
        "id": "RfOd432hMlia"
      },
      "outputs": [],
      "source": [
        "pokemons.append(\"Mewtwo\")"
      ]
    },
    {
      "cell_type": "code",
      "execution_count": null,
      "metadata": {
        "colab": {
          "base_uri": "https://localhost:8080/"
        },
        "id": "V0QjaDyuMtLs",
        "outputId": "3dffbe58-e690-4ab7-9425-c63ef1ad27a8"
      },
      "outputs": [
        {
          "data": {
            "text/plain": [
              "['Bulbasaur',\n",
              " 'Charmander',\n",
              " 'Squirtle',\n",
              " 'Caterpie',\n",
              " 'Pidgeotto',\n",
              " 'Pikachu',\n",
              " 'Kadabra',\n",
              " 'Magmar',\n",
              " 'abra',\n",
              " 'Mewtwo']"
            ]
          },
          "execution_count": 52,
          "metadata": {
            "tags": []
          },
          "output_type": "execute_result"
        }
      ],
      "source": [
        "pokemons"
      ]
    },
    {
      "cell_type": "code",
      "execution_count": null,
      "metadata": {
        "colab": {
          "base_uri": "https://localhost:8080/"
        },
        "id": "ua0UIaJGMwBh",
        "outputId": "a42f556e-c569-42af-b6c2-70d5ab73485e"
      },
      "outputs": [
        {
          "data": {
            "text/plain": [
              "['Bulbasaur',\n",
              " 'Charizard',\n",
              " 'Squirtle',\n",
              " 'Caterpie',\n",
              " 'Pidgeotto',\n",
              " 'Pikachu',\n",
              " 'Kadabra',\n",
              " 'Magmar',\n",
              " 'abra']"
            ]
          },
          "execution_count": 53,
          "metadata": {
            "tags": []
          },
          "output_type": "execute_result"
        }
      ],
      "source": [
        "pokedex1 + pokedex2"
      ]
    },
    {
      "attachments": {},
      "cell_type": "markdown",
      "metadata": {
        "id": "mYdoeRK3M86z"
      },
      "source": [
        "### Outra forma de apagar itens da lista (`del`)"
      ]
    },
    {
      "cell_type": "code",
      "execution_count": null,
      "metadata": {
        "id": "5lMJXBbtM36J"
      },
      "outputs": [],
      "source": [
        "del(pokedex1[0])"
      ]
    },
    {
      "cell_type": "code",
      "execution_count": null,
      "metadata": {
        "colab": {
          "base_uri": "https://localhost:8080/"
        },
        "id": "v8xVO-oNNcUV",
        "outputId": "67075f47-e61b-4a01-c480-884a70bac775"
      },
      "outputs": [
        {
          "data": {
            "text/plain": [
              "['Charizard', 'Caterpie']"
            ]
          },
          "execution_count": 58,
          "metadata": {
            "tags": []
          },
          "output_type": "execute_result"
        }
      ],
      "source": [
        "pokedex1"
      ]
    },
    {
      "attachments": {},
      "cell_type": "markdown",
      "metadata": {
        "id": "bkIUl5FVhRyy"
      },
      "source": [
        "## Aula 28/07/2021\n",
        "- Funções\n",
        " - Material: https://panda.ime.usp.br/aulasPython/static/aulasPython/aula06.html\n",
        "\n",
        "### Introdução a funções\n",
        "Você já viu e usou funções como `print` e` abs`. Mas Python tem muito mais funções, e definir suas próprias funções é uma grande parte da programação Python.\n",
        "\n",
        "Nesta lição, você aprenderá mais sobre como usar e definir funções."
      ]
    },
    {
      "cell_type": "code",
      "execution_count": null,
      "metadata": {
        "colab": {
          "base_uri": "https://localhost:8080/"
        },
        "id": "yPQw3glrh7Pc",
        "outputId": "0cbbe13e-c390-42bb-d7e4-7d66f2387114"
      },
      "outputs": [
        {
          "name": "stdout",
          "output_type": "stream",
          "text": [
            "Estou usando a função print()\n"
          ]
        }
      ],
      "source": [
        "print(\"Estou usando a função print()\")"
      ]
    },
    {
      "attachments": {},
      "cell_type": "markdown",
      "metadata": {
        "id": "VqGGVY6Rh_UJ"
      },
      "source": [
        "### Funções de definição\n",
        "\n",
        "As funções embutidas são ótimas, mas só podemos ir até certo ponto com elas antes de precisarmos começar a definir nossas próprias funções. Abaixo está um exemplo simples."
      ]
    },
    {
      "cell_type": "code",
      "execution_count": null,
      "metadata": {
        "id": "UpqQkWIVpbmu"
      },
      "outputs": [],
      "source": [
        "def soma(a, b):\n",
        "  print(a + b)"
      ]
    },
    {
      "cell_type": "code",
      "execution_count": null,
      "metadata": {
        "colab": {
          "base_uri": "https://localhost:8080/"
        },
        "id": "6nonHfPRptRi",
        "outputId": "5f616b86-99db-4878-923a-fe9bf6cf37f5"
      },
      "outputs": [
        {
          "name": "stdout",
          "output_type": "stream",
          "text": [
            "23\n"
          ]
        }
      ],
      "source": [
        "soma(5, 18)"
      ]
    },
    {
      "cell_type": "code",
      "execution_count": null,
      "metadata": {
        "colab": {
          "base_uri": "https://localhost:8080/"
        },
        "id": "Z0GBJBAeiGFQ",
        "outputId": "c390d484-c006-4e0e-a66e-83bf85c94314"
      },
      "outputs": [
        {
          "name": "stdout",
          "output_type": "stream",
          "text": [
            "Isso não está na função\n"
          ]
        }
      ],
      "source": [
        "def menor_diferenca(a, b, c):\n",
        "    diff1 = abs(a - b)\n",
        "    diff2 = abs(b - c)\n",
        "    diff3 = abs(a - c)\n",
        "    return min(diff1, diff2, diff3)\n",
        "\n",
        "print(\"Isso não está na função\")"
      ]
    },
    {
      "cell_type": "code",
      "execution_count": null,
      "metadata": {
        "id": "UY4dCV3JqPmS"
      },
      "outputs": [],
      "source": [
        "menor = menor_diferenca(3, 15, 18)"
      ]
    },
    {
      "cell_type": "code",
      "execution_count": null,
      "metadata": {
        "colab": {
          "base_uri": "https://localhost:8080/"
        },
        "id": "-iNNEIu0qmid",
        "outputId": "c02aa548-85e6-482e-f728-1f3bfdd9d3df"
      },
      "outputs": [
        {
          "name": "stdout",
          "output_type": "stream",
          "text": [
            "3\n"
          ]
        }
      ],
      "source": [
        "print(menor)"
      ]
    },
    {
      "attachments": {},
      "cell_type": "markdown",
      "metadata": {
        "id": "nLX_1LKviYa3"
      },
      "source": [
        "Isso cria uma função chamada `menor_diferenca`, que leva três argumentos,` a`, `b` e` c`.\n",
        "\n",
        "As funções começam com um cabeçalho introduzido pela palavra-chave `def`. O bloco recuado de código após `:` é executado quando a função é chamada.\n",
        "\n",
        "`return` é outra palavra-chave associada exclusivamente a funções. Quando o Python encontra uma instrução `return`, ele sai da função imediatamente e passa o valor do lado direito para o contexto de chamada.\n",
        "\n",
        "Está claro o que `menor_diferenca()` faz do código-fonte? Se não tivermos certeza, podemos sempre experimentar com alguns exemplos:"
      ]
    },
    {
      "cell_type": "code",
      "execution_count": null,
      "metadata": {
        "colab": {
          "base_uri": "https://localhost:8080/"
        },
        "id": "XTDctcPYirbF",
        "outputId": "a2ab77a2-8335-4d81-d905-780f7001ee12"
      },
      "outputs": [
        {
          "name": "stdout",
          "output_type": "stream",
          "text": [
            "9 0 1\n"
          ]
        }
      ],
      "source": [
        "print(\n",
        "    menor_diferenca(1, 10, 100),\n",
        "    menor_diferenca(1, 10, 10),\n",
        "    menor_diferenca(5, 6, 7), # Python permite vírgulas finais em listas de argumentos. Isso não é bom?\n",
        ")"
      ]
    },
    {
      "attachments": {},
      "cell_type": "markdown",
      "metadata": {
        "id": "-eJahfF3jOrO"
      },
      "source": [
        "## Funções que não retornam\n",
        "\n",
        "O que aconteceria se não incluíssemos a palavra-chave `return` em nossa função?"
      ]
    },
    {
      "cell_type": "code",
      "execution_count": null,
      "metadata": {
        "colab": {
          "base_uri": "https://localhost:8080/"
        },
        "id": "WJ_caQjejYAW",
        "outputId": "83c184cf-06a0-4dbb-d6a1-ad8ec7e1f649"
      },
      "outputs": [
        {
          "name": "stdout",
          "output_type": "stream",
          "text": [
            "None None None\n"
          ]
        }
      ],
      "source": [
        "def menor_diferenca(a, b, c):\n",
        "    \"\"\"Retorna a menor diferença entre dois números quaisquer\n",
        "    entre a, b e c.\n",
        "    \"\"\"\n",
        "    diff1 = abs(a - b)\n",
        "    diff2 = abs(b - c)\n",
        "    diff3 = abs(a - c)\n",
        "    min(diff1, diff2, diff3)\n",
        "    \n",
        "print(\n",
        "    menor_diferenca(1, 10, 100),\n",
        "    menor_diferenca(1, 10, 10),\n",
        "    menor_diferenca(5, 6, 7),\n",
        ")"
      ]
    },
    {
      "attachments": {},
      "cell_type": "markdown",
      "metadata": {
        "id": "s6F1Yko3ju1t"
      },
      "source": [
        "Python nos permite definir tais funções. O resultado de chamá-los é o valor especial `None`. (Isso é semelhante ao conceito de \"null\" em outras linguagens.)\n",
        "\n",
        "Sem uma instrução `return`,`menor_diferenca` é completamente inútil, mas uma função com efeitos colaterais pode fazer algo útil sem retornar nada. Já vimos dois exemplos disso: `print()` e `help()` não retornam nada. Nós apenas os chamamos por seus efeitos colaterais (colocar algum texto na tela). Outros exemplos de efeitos colaterais úteis incluem gravar em um arquivo ou modificar uma entrada."
      ]
    },
    {
      "cell_type": "code",
      "execution_count": null,
      "metadata": {
        "colab": {
          "base_uri": "https://localhost:8080/"
        },
        "id": "9uv1MV3VkIXV",
        "outputId": "96670f64-398b-42b6-f96f-7ce20517849c"
      },
      "outputs": [
        {
          "name": "stdout",
          "output_type": "stream",
          "text": [
            "\n",
            "None\n"
          ]
        }
      ],
      "source": [
        "misterio = print()\n",
        "print(misterio)"
      ]
    },
    {
      "attachments": {},
      "cell_type": "markdown",
      "metadata": {
        "id": "KjIzPtkykSJd"
      },
      "source": [
        "### Argumentos padrão\n",
        "\n",
        "Quando chamamos `help(print)`, vimos que a função `print` tem vários argumentos opcionais. Por exemplo, podemos especificar um valor para `sep` para colocar alguma string especial entre nossos argumentos impressos:"
      ]
    },
    {
      "cell_type": "code",
      "execution_count": null,
      "metadata": {
        "colab": {
          "base_uri": "https://localhost:8080/"
        },
        "id": "4DmC9DM4kZJP",
        "outputId": "0a3fcfca-7166-4b00-dbed-31ca56720a02"
      },
      "outputs": [
        {
          "name": "stdout",
          "output_type": "stream",
          "text": [
            "1 < 2 < 3\n"
          ]
        }
      ],
      "source": [
        "print(1, 2, 3, sep=' < ')"
      ]
    },
    {
      "attachments": {},
      "cell_type": "markdown",
      "metadata": {
        "id": "SPYQF76gkhaE"
      },
      "source": [
        "Mas se não especificarmos um valor, `sep` é tratado como tendo um valor padrão de`' '`(um único espaço)."
      ]
    },
    {
      "cell_type": "code",
      "execution_count": null,
      "metadata": {
        "colab": {
          "base_uri": "https://localhost:8080/"
        },
        "id": "RHXbt9sdksl8",
        "outputId": "5154b601-7b93-4f1e-a0cd-62d8037bcaa2"
      },
      "outputs": [
        {
          "name": "stdout",
          "output_type": "stream",
          "text": [
            "1 2 3\n"
          ]
        }
      ],
      "source": [
        "print(1, 2, 3)"
      ]
    },
    {
      "attachments": {},
      "cell_type": "markdown",
      "metadata": {
        "id": "UtBvGhWekvYL"
      },
      "source": [
        "Adicionar argumentos opcionais com valores padrão às funções que definimos acaba sendo muito fácil:"
      ]
    },
    {
      "cell_type": "code",
      "execution_count": null,
      "metadata": {
        "id": "qoukrRdIk0XJ"
      },
      "outputs": [],
      "source": [
        "def saudacao(quem=\"Colin\"):\n",
        "    '''Imprime uma saudação para um nome passado\n",
        "    como parâmetro'''\n",
        "    print(\"Hello,\", quem)"
      ]
    },
    {
      "cell_type": "code",
      "execution_count": null,
      "metadata": {
        "colab": {
          "base_uri": "https://localhost:8080/"
        },
        "id": "uQMaPR9Wukzm",
        "outputId": "a32c3439-1162-4c9d-f2b0-649cd426bac4"
      },
      "outputs": [
        {
          "name": "stdout",
          "output_type": "stream",
          "text": [
            "Hello, Colin\n",
            "Hello, Kaggle\n",
            "Hello, World\n"
          ]
        }
      ],
      "source": [
        "saudacao()\n",
        "saudacao(quem=\"Kaggle\")\n",
        "# (Nesse caso, não precisamos especificar o nome do argumento, porque ele não é ambíguo.)\n",
        "saudacao(\"World\")"
      ]
    },
    {
      "cell_type": "code",
      "execution_count": null,
      "metadata": {
        "colab": {
          "base_uri": "https://localhost:8080/"
        },
        "id": "N9_dvE2Lui1a",
        "outputId": "e0777f08-5439-4734-8c89-36edf5c43b60"
      },
      "outputs": [
        {
          "name": "stdout",
          "output_type": "stream",
          "text": [
            "Help on function saudacao in module __main__:\n",
            "\n",
            "saudacao(quem='Colin')\n",
            "    Imprime uma saudação para um nome passado\n",
            "    como parâmetro\n",
            "\n"
          ]
        }
      ],
      "source": [
        "help(saudacao)"
      ]
    },
    {
      "attachments": {},
      "cell_type": "markdown",
      "metadata": {
        "id": "B8h53K7dlb7z"
      },
      "source": [
        "### Funções aplicadas a funções\n",
        "\n",
        "Aqui está algo poderoso, embora possa parecer muito abstrato no início. Você pode fornecer funções como argumentos para outras funções. Alguns exemplos podem tornar isso mais claro:"
      ]
    },
    {
      "cell_type": "code",
      "execution_count": null,
      "metadata": {
        "colab": {
          "base_uri": "https://localhost:8080/"
        },
        "id": "kgO8as3XluUg",
        "outputId": "e534a3a8-44cf-4f30-aebb-9a7f23fa2a54"
      },
      "outputs": [
        {
          "name": "stdout",
          "output_type": "stream",
          "text": [
            "5\n",
            "25\n"
          ]
        }
      ],
      "source": [
        "def mult_por_cinco(x):\n",
        "    return 5 * x\n",
        "\n",
        "def chamada(fn, arg):\n",
        "    \"\"\"Invoca fn como arg\"\"\"\n",
        "    return fn(arg)\n",
        "\n",
        "def chamada_ao_quadrado(fn, arg):\n",
        "    \"\"\"Invoca fn no resultado da chamada fn\"\"\"\n",
        "    return fn(fn(arg))\n",
        "\n",
        "print(\n",
        "    chamada(mult_por_cinco, 1),\n",
        "    chamada_ao_quadrado(mult_por_cinco, 1), \n",
        "    sep='\\n', # '\\n' é o caractere de nova linha - ele inicia uma nova linha\n",
        ")"
      ]
    },
    {
      "cell_type": "code",
      "execution_count": null,
      "metadata": {
        "id": "sl6m-UXjycwn"
      },
      "outputs": [],
      "source": [
        "def par_ou_impar(valor):\n",
        "    if valor % 2 == 0:\n",
        "        return \"Par\"\n",
        "    else:\n",
        "        return \"Ímpar\"\n",
        "\n",
        "\n",
        "print(par_ou_impar(5))\n",
        "print(par_ou_impar(52))\n",
        "print(par_ou_impar(83))\n",
        "print(par_ou_impar(19))\n",
        "print(par_ou_impar(20))"
      ]
    },
    {
      "attachments": {},
      "cell_type": "markdown",
      "metadata": {
        "id": "cZjl9LzXnHFD"
      },
      "source": [
        "As funções que operam em outras funções são chamadas de \"funções de ordem superior\". Você provavelmente não vai escrever o seu por um tempo. Mas existem funções de ordem superior integradas ao Python que podem ser úteis para você chamar.\n",
        "\n",
        "Aqui está um exemplo interessante usando a função `max`.\n",
        "\n",
        "Por padrão, `max` retorna o maior de seus argumentos. Mas se passarmos uma função usando o argumento opcional `key`, ele retorna o argumento `x` que maximiza `key (x)` (também conhecido como 'argmax')."
      ]
    },
    {
      "cell_type": "code",
      "execution_count": null,
      "metadata": {
        "colab": {
          "base_uri": "https://localhost:8080/"
        },
        "id": "4qcVRXSgnj09",
        "outputId": "589e7240-c176-4b30-b951-a23595ce7157"
      },
      "outputs": [
        {
          "name": "stdout",
          "output_type": "stream",
          "text": [
            "Qual número é o maior?\n",
            "100\n",
            "Qual número é o maior módulo 5?\n",
            "14\n"
          ]
        }
      ],
      "source": [
        "def mod_5(x):\n",
        "    \"\"\"Retorna o resto de x após dividir por 5\"\"\"\n",
        "    return x % 5\n",
        "\n",
        "print(\n",
        "    'Qual número é o maior?',\n",
        "    max(100, 51, 14),\n",
        "    'Qual número é o maior módulo 5?',\n",
        "    max(100, 51, 14, key=mod_5),\n",
        "    sep='\\n',\n",
        ")"
      ]
    },
    {
      "attachments": {},
      "cell_type": "markdown",
      "metadata": {
        "id": "1uLPN7rNsRvx"
      },
      "source": [
        "# Projeto Pedra Papel Tesoura"
      ]
    },
    {
      "cell_type": "code",
      "execution_count": 6,
      "metadata": {
        "id": "Nf4SRtXuPdRk"
      },
      "outputs": [
        {
          "name": "stdout",
          "output_type": "stream",
          "text": [
            "=-=-=-=-=-=-=-=-=-=-=-=-=-=-=-=-=-=-=-=-=-=-=-=-=-=-=-=-=-=-\n",
            "Bem-vindos ao JO KE PO!\n",
            "=-=-=-=-=-=-=-=-=-=-=-=-=-=-=-=-=-=-=-=-=-=-=-=-=-=-=-=-=-=-\n",
            "Escolha sua opção\n",
            "1: Pedra, 2: Tesoura 3: Papel 4: Lagarto 5: Spock\n",
            "JO KE PO \n",
            "O compudador ganhou!\n",
            "=-=-=-=-=-=-=-=-=-=-=-=-=-=-=-=-=-=-=-=-=-=-=-=-=-=-=-=-=-=-\n",
            "Bem-vindos ao JO KE PO!\n",
            "=-=-=-=-=-=-=-=-=-=-=-=-=-=-=-=-=-=-=-=-=-=-=-=-=-=-=-=-=-=-\n",
            "Escolha sua opção\n",
            "1: Pedra, 2: Tesoura 3: Papel 4: Lagarto 5: Spock\n",
            "JO KE PO \n",
            "Houve um empate!\n",
            "=-=-=-=-=-=-=-=-=-=-=-=-=-=-=-=-=-=-=-=-=-=-=-=-=-=-=-=-=-=-\n",
            "Bem-vindos ao JO KE PO!\n",
            "=-=-=-=-=-=-=-=-=-=-=-=-=-=-=-=-=-=-=-=-=-=-=-=-=-=-=-=-=-=-\n",
            "Escolha sua opção\n",
            "1: Pedra, 2: Tesoura 3: Papel 4: Lagarto 5: Spock\n",
            "JO KE PO \n",
            "O usuário ganhou!\n",
            "=-=-=-=-=-=-=-=-=-=-=-=-=-=-=-=-=-=-=-=-=-=-=-=-=-=-=-=-=-=-\n",
            "Bem-vindos ao JO KE PO!\n",
            "=-=-=-=-=-=-=-=-=-=-=-=-=-=-=-=-=-=-=-=-=-=-=-=-=-=-=-=-=-=-\n",
            "Escolha sua opção\n",
            "1: Pedra, 2: Tesoura 3: Papel 4: Lagarto 5: Spock\n",
            "JO KE PO \n",
            "O compudador ganhou!\n",
            "Fim de jogo!\n"
          ]
        }
      ],
      "source": [
        "# Jo Ke Po\n",
        "import random\n",
        "import time\n",
        "'''\n",
        "Pedra, papel, tesoura, lagarto e spock\n",
        "Regras:\n",
        "- Pedra ganha da tesoura (amassando-a ou quebrando-a).\n",
        "- Tesoura ganha do papel (cortando-o).\n",
        "- Papel ganha da pedra (embrulhando-a).\n",
        "- Lagarto ganha do Spock (envenenando-o).\n",
        "- Spock ganha da tesoura (quebrando-a).\n",
        "- Tesoura ganha do lagarto (decapitando-o).\n",
        "- Lagarto ganha do papel (comendo-o).\n",
        "- Papel ganha de Spock (desmentindo-o).\n",
        "- Spock ganha da pedra (vaporizando-a).\n",
        "- Pedra ganha do lagarto (esmagando-o).\n",
        "- Se dois jogadores fizerem a mesma escolha, ocorre um empate.\n",
        "- 2 jogadores: você e o computador\n",
        "'''\n",
        "def inicio():\n",
        "    print(\"=-\" * 30)\n",
        "    print(\"Bem-vindos ao JO KE PO!\")\n",
        "    print(\"=-\" * 30)\n",
        "    print(\"Escolha sua opção\")\n",
        "    print(\"1: Pedra, 2: Tesoura 3: Papel 4: Lagarto 5: Spock\")\n",
        "    pc = random.randint(1, 5)\n",
        "    user = int(input())\n",
        "    # win = user Ganhou / lose = PC ganhou / empate\n",
        "    ganhador = compara(user, pc)\n",
        "    print(\"JO\", end=\" \")\n",
        "    time.sleep(1)\n",
        "    print(\"KE\", end=\" \")\n",
        "    time.sleep(1)\n",
        "    print(\"PO\", end=\" \")\n",
        "    time.sleep(1)\n",
        "    print()\n",
        "    winner(ganhador)\n",
        "\n",
        "def winner(ganhador):\n",
        "   if ganhador == \"win\":\n",
        "       print(\"O usuário ganhou!\")\n",
        "   elif ganhador == \"lose\":\n",
        "       print(\"O compudador ganhou!\")\n",
        "   else:\n",
        "       print(\"Houve um empate!\")\n",
        "\n",
        "def compara(opUser, opPc):\n",
        "    if opUser == opPc:\n",
        "        return \"empate\"\n",
        "    elif opUser == 1 and opPc == 2 or opUser == 1 and opPc == 4:\n",
        "        return \"win\"\n",
        "    elif opUser == 1 and opPc == 3 or opUser == 1 and opPc == 5:\n",
        "        return \"lose\"\n",
        "    elif opUser == 2 and opPc == 1 or opUser == 2 and opPc == 4:\n",
        "        return \"lose\"\n",
        "    elif opUser == 2 and opPc == 3 or opUser == 2 and opPc == 5:\n",
        "        return \"win\"\n",
        "    elif opUser == 3 and opPc == 1 or opUser == 3 and opPc == 5:\n",
        "        return \"win\"\n",
        "    elif opUser == 3 and opPc == 2 or opUser == 3 and opPc == 4:\n",
        "        return \"lose\"\n",
        "    elif opUser == 4 and opPc == 2 or opUser == 4 and opPc == 3:\n",
        "        return \"win\"\n",
        "    elif opUser == 4 and opPc == 1 or opUser == 4 and opPc == 5:\n",
        "        return \"lose\"\n",
        "    elif opUser == 5 and opPc == 1 or opUser == 5 and opPc == 3:\n",
        "        return \"win\"\n",
        "    elif opUser == 5 and opPc == 2 or opUser == 5 and opPc == 4:\n",
        "        return \"lose\"\n",
        "\n",
        "jogar = True\n",
        "while(jogar):\n",
        "    inicio()\n",
        "    ent = int(input(\"Digite 1 para jogar de novo ou qualquer \"\n",
        "          \"outro número para encerrar.\"))\n",
        "    if ent != 1:\n",
        "        jogar = False\n",
        "print(\"Fim de jogo!\")\n",
        "# Criar campeonatos ou jogos avulsos\n",
        "# Campeonato: pode definir quantas partidas terão\n",
        "# Ao final do campeonato, apresentar o placar\n",
        "# Obs.: Para guardar informações, recomenda-se o uso de listas"
      ]
    },
    {
      "attachments": {},
      "cell_type": "markdown",
      "metadata": {
        "id": "HU0fv4pM1-QM"
      },
      "source": [
        "## Projeto Final\n",
        "---\n",
        "Notebook do projeto com requisitos e grupos: https://colab.research.google.com/drive/1tPLvLKiBWuE3foeGvheUP0MIyrEQkIS0?usp=sharing"
      ]
    },
    {
      "cell_type": "code",
      "execution_count": 5,
      "metadata": {
        "id": "QfD8998vIjGH"
      },
      "outputs": [
        {
          "name": "stdout",
          "output_type": "stream",
          "text": [
            "p:  5\n",
            "u:  0\n",
            "p:  5\n",
            "u:  5\n",
            "p:  4\n",
            "u:  5\n",
            "p:  0\n",
            "u:  4\n",
            "sim\n",
            "Há 2 adjascentes de 5\n"
          ]
        }
      ],
      "source": [
        "# Escreva um programa que receba um número inteiro na entrada\n",
        "# e verifique se o número recebido possui ao menos um dígito\n",
        "# com um dígito adjacente igual a ele. Caso exista, imprima \"sim\" e diga\n",
        "# quantos números adjacentes se não existir, imprima \"não\".\n",
        "\n",
        "# 4555\n",
        "def main():\n",
        "    numero = int(input(\"Digite um número: \"))\n",
        "    contador = 1\n",
        "    digito = 0\n",
        "    for i in range(len(str(numero))):\n",
        "        u = numero % 10  # 5\n",
        "        numero = numero // 10  # 5\n",
        "        p = numero % 10\n",
        "        print(\"p: \", p)\n",
        "        print(\"u: \", u)\n",
        "        if u == p:\n",
        "            contador += 1\n",
        "            digito = u\n",
        "\n",
        "    if contador > 1:\n",
        "        print(\"sim\")\n",
        "        print(f\"Há {contador} adjascentes de {digito}\")\n",
        "    else:\n",
        "        print(\"não\")\n",
        "\n",
        "\n",
        "main()"
      ]
    }
  ],
  "metadata": {
    "colab": {
      "provenance": []
    },
    "kernelspec": {
      "display_name": "Python 3",
      "name": "python3"
    },
    "language_info": {
      "codemirror_mode": {
        "name": "ipython",
        "version": 3
      },
      "file_extension": ".py",
      "mimetype": "text/x-python",
      "name": "python",
      "nbconvert_exporter": "python",
      "pygments_lexer": "ipython3",
      "version": "3.9.5"
    }
  },
  "nbformat": 4,
  "nbformat_minor": 0
}
